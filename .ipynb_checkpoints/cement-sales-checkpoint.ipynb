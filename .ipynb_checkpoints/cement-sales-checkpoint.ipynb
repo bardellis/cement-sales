{
 "cells": [
  {
   "cell_type": "markdown",
   "id": "2b3f71e4",
   "metadata": {},
   "source": [
    "## Get Data | Sales operations"
   ]
  },
  {
   "cell_type": "code",
   "execution_count": 1,
   "id": "b4779743",
   "metadata": {},
   "outputs": [
    {
     "data": {
      "text/html": [
       "<div>\n",
       "<style scoped>\n",
       "    .dataframe tbody tr th:only-of-type {\n",
       "        vertical-align: middle;\n",
       "    }\n",
       "\n",
       "    .dataframe tbody tr th {\n",
       "        vertical-align: top;\n",
       "    }\n",
       "\n",
       "    .dataframe thead th {\n",
       "        text-align: right;\n",
       "    }\n",
       "</style>\n",
       "<table border=\"1\" class=\"dataframe\">\n",
       "  <thead>\n",
       "    <tr style=\"text-align: right;\">\n",
       "      <th></th>\n",
       "      <th>Channel_id</th>\n",
       "      <th>Channel</th>\n",
       "      <th>Sales_people_id</th>\n",
       "      <th>Sales_people</th>\n",
       "      <th>Invoice_class</th>\n",
       "      <th>Shipping point_id</th>\n",
       "      <th>Shipping_point</th>\n",
       "      <th>Type_client</th>\n",
       "      <th>client_id</th>\n",
       "      <th>client_name</th>\n",
       "      <th>...</th>\n",
       "      <th>Region</th>\n",
       "      <th>Province</th>\n",
       "      <th>Village</th>\n",
       "      <th>Net</th>\n",
       "      <th>Sales document</th>\n",
       "      <th>Product.1</th>\n",
       "      <th>Sales doc descr.</th>\n",
       "      <th>Doc.date</th>\n",
       "      <th>Sales doc class</th>\n",
       "      <th>Incoterms</th>\n",
       "    </tr>\n",
       "  </thead>\n",
       "  <tbody>\n",
       "    <tr>\n",
       "      <th>0</th>\n",
       "      <td>1</td>\n",
       "      <td>Inland</td>\n",
       "      <td>3542</td>\n",
       "      <td>Santos</td>\n",
       "      <td>ZF21</td>\n",
       "      <td>AE09</td>\n",
       "      <td>Ramallo</td>\n",
       "      <td>Clients</td>\n",
       "      <td>301935</td>\n",
       "      <td>BRAICO S.R.L.</td>\n",
       "      <td>...</td>\n",
       "      <td>12</td>\n",
       "      <td>Santa Fé</td>\n",
       "      <td>VERA</td>\n",
       "      <td>170090.41</td>\n",
       "      <td>529613</td>\n",
       "      <td>80067</td>\n",
       "      <td>Standard</td>\n",
       "      <td>2020-08-01</td>\n",
       "      <td>ZP21</td>\n",
       "      <td>FOB</td>\n",
       "    </tr>\n",
       "    <tr>\n",
       "      <th>1</th>\n",
       "      <td>1</td>\n",
       "      <td>Inland</td>\n",
       "      <td>2463</td>\n",
       "      <td>Birolo</td>\n",
       "      <td>ZF21</td>\n",
       "      <td>AE09</td>\n",
       "      <td>Ramallo</td>\n",
       "      <td>Clients</td>\n",
       "      <td>302755</td>\n",
       "      <td>EL LADRILLERO S.A</td>\n",
       "      <td>...</td>\n",
       "      <td>12</td>\n",
       "      <td>Santa Fé</td>\n",
       "      <td>ROSARIO</td>\n",
       "      <td>204434.00</td>\n",
       "      <td>529611</td>\n",
       "      <td>80067</td>\n",
       "      <td>Standard</td>\n",
       "      <td>2020-08-01</td>\n",
       "      <td>ZP21</td>\n",
       "      <td>FOB</td>\n",
       "    </tr>\n",
       "    <tr>\n",
       "      <th>2</th>\n",
       "      <td>1</td>\n",
       "      <td>Inland</td>\n",
       "      <td>3709</td>\n",
       "      <td>Valdes</td>\n",
       "      <td>ZF21</td>\n",
       "      <td>AE09</td>\n",
       "      <td>Ramallo</td>\n",
       "      <td>Clients</td>\n",
       "      <td>302874</td>\n",
       "      <td>GALVAN GLADYS ESTHER</td>\n",
       "      <td>...</td>\n",
       "      <td>16</td>\n",
       "      <td>Chaco</td>\n",
       "      <td>LAS BREÑAS</td>\n",
       "      <td>181329.91</td>\n",
       "      <td>529607</td>\n",
       "      <td>80067</td>\n",
       "      <td>Standard</td>\n",
       "      <td>2020-08-01</td>\n",
       "      <td>ZP21</td>\n",
       "      <td>FOB</td>\n",
       "    </tr>\n",
       "    <tr>\n",
       "      <th>3</th>\n",
       "      <td>1</td>\n",
       "      <td>Inland</td>\n",
       "      <td>3709</td>\n",
       "      <td>Valdes</td>\n",
       "      <td>ZF21</td>\n",
       "      <td>AE09</td>\n",
       "      <td>Ramallo</td>\n",
       "      <td>Clients</td>\n",
       "      <td>304930</td>\n",
       "      <td>CARVAJAL JOSE IGNACIO</td>\n",
       "      <td>...</td>\n",
       "      <td>13</td>\n",
       "      <td>Santiago del Estero</td>\n",
       "      <td>SANTIAGO DEL ESTERO</td>\n",
       "      <td>189401.94</td>\n",
       "      <td>529609</td>\n",
       "      <td>80067</td>\n",
       "      <td>Standard</td>\n",
       "      <td>2020-08-01</td>\n",
       "      <td>ZP21</td>\n",
       "      <td>FOB</td>\n",
       "    </tr>\n",
       "    <tr>\n",
       "      <th>4</th>\n",
       "      <td>2</td>\n",
       "      <td>Metropolitana Area</td>\n",
       "      <td>2890</td>\n",
       "      <td>Almeida</td>\n",
       "      <td>ZF21</td>\n",
       "      <td>AE01</td>\n",
       "      <td>Olavarría</td>\n",
       "      <td>Clients</td>\n",
       "      <td>301234</td>\n",
       "      <td>DISTRIBUIDORA NORTE SA</td>\n",
       "      <td>...</td>\n",
       "      <td>0</td>\n",
       "      <td>Capital Federal</td>\n",
       "      <td>CABA</td>\n",
       "      <td>143059.20</td>\n",
       "      <td>497363</td>\n",
       "      <td>80067</td>\n",
       "      <td>Special deals</td>\n",
       "      <td>2020-05-28</td>\n",
       "      <td>ZP25</td>\n",
       "      <td>FOB</td>\n",
       "    </tr>\n",
       "  </tbody>\n",
       "</table>\n",
       "<p>5 rows × 55 columns</p>\n",
       "</div>"
      ],
      "text/plain": [
       "   Channel_id             Channel  Sales_people_id Sales_people Invoice_class  \\\n",
       "0           1              Inland             3542       Santos          ZF21   \n",
       "1           1              Inland             2463       Birolo          ZF21   \n",
       "2           1              Inland             3709       Valdes          ZF21   \n",
       "3           1              Inland             3709       Valdes          ZF21   \n",
       "4           2  Metropolitana Area             2890      Almeida          ZF21   \n",
       "\n",
       "  Shipping point_id Shipping_point Type_client  client_id  \\\n",
       "0              AE09        Ramallo     Clients     301935   \n",
       "1              AE09        Ramallo     Clients     302755   \n",
       "2              AE09        Ramallo     Clients     302874   \n",
       "3              AE09        Ramallo     Clients     304930   \n",
       "4              AE01      Olavarría     Clients     301234   \n",
       "\n",
       "              client_name  ...  Region             Province  \\\n",
       "0           BRAICO S.R.L.  ...      12             Santa Fé   \n",
       "1       EL LADRILLERO S.A  ...      12             Santa Fé   \n",
       "2    GALVAN GLADYS ESTHER  ...      16                Chaco   \n",
       "3   CARVAJAL JOSE IGNACIO  ...      13  Santiago del Estero   \n",
       "4  DISTRIBUIDORA NORTE SA  ...       0      Capital Federal   \n",
       "\n",
       "               Village        Net Sales document  Product.1 Sales doc descr.  \\\n",
       "0                 VERA  170090.41         529613      80067         Standard   \n",
       "1              ROSARIO  204434.00         529611      80067         Standard   \n",
       "2           LAS BREÑAS  181329.91         529607      80067         Standard   \n",
       "3  SANTIAGO DEL ESTERO  189401.94         529609      80067         Standard   \n",
       "4                 CABA  143059.20         497363      80067    Special deals   \n",
       "\n",
       "    Doc.date Sales doc class Incoterms  \n",
       "0 2020-08-01            ZP21       FOB  \n",
       "1 2020-08-01            ZP21       FOB  \n",
       "2 2020-08-01            ZP21       FOB  \n",
       "3 2020-08-01            ZP21       FOB  \n",
       "4 2020-05-28            ZP25       FOB  \n",
       "\n",
       "[5 rows x 55 columns]"
      ]
     },
     "execution_count": 1,
     "metadata": {},
     "output_type": "execute_result"
    }
   ],
   "source": [
    "import pandas as pd\n",
    "excel_file_path = 'Cement_sales.xlsx'  # Make sure to use the correct file extension (.xlsx)\n",
    "cement_sales = pd.read_excel(excel_file_path)\n",
    "cement_sales.head()\n",
    "# read the sales file"
   ]
  },
  {
   "cell_type": "code",
   "execution_count": 2,
   "id": "d2d9ecb7",
   "metadata": {},
   "outputs": [
    {
     "name": "stdout",
     "output_type": "stream",
     "text": [
      "Total Net Amount USD: 81,675,207.81\n"
     ]
    }
   ],
   "source": [
    "total_net_amount = cement_sales['Net amount USD'].sum()\n",
    "formatted_total = '{:,.2f}'.format(total_net_amount)\n",
    "print(\"Total Net Amount USD:\", formatted_total)"
   ]
  },
  {
   "cell_type": "markdown",
   "id": "557ee5fa",
   "metadata": {},
   "source": [
    "## Get Data | Filter data for the target segment"
   ]
  },
  {
   "cell_type": "code",
   "execution_count": 3,
   "id": "4fcfff62",
   "metadata": {},
   "outputs": [
    {
     "name": "stdout",
     "output_type": "stream",
     "text": [
      "Subtotal Net Amount USD: 12,457,475.65\n"
     ]
    }
   ],
   "source": [
    "subtotal_df = cement_sales[\n",
    "    (cement_sales['Sales doc descr.'] == 'Standard') &\n",
    "    (cement_sales['Shipping_point'] == 'Olavarría') &\n",
    "    (cement_sales['Segment']=='Cement') &\n",
    "    (cement_sales['Product']=='CEMENT CPC40 IRAM 50000 B50 KG') &\n",
    "    (cement_sales['Incoterms']=='FOB') &\n",
    "    (cement_sales['Category_desc']=='building materials stores')]\n",
    "subtotal_net_amount = subtotal_df['Net amount USD'].sum()\n",
    "formatted_subtotal = '{:,.2f}'.format(subtotal_net_amount)\n",
    "print(\"Subtotal Net Amount USD:\", formatted_subtotal)\n",
    "# filter the file for the segment, category, product, shipping point and sales document"
   ]
  },
  {
   "cell_type": "code",
   "execution_count": 4,
   "id": "aaeaca46",
   "metadata": {},
   "outputs": [
    {
     "data": {
      "text/plain": [
       "(5801, 55)"
      ]
     },
     "execution_count": 4,
     "metadata": {},
     "output_type": "execute_result"
    }
   ],
   "source": [
    "subtotal_df.shape"
   ]
  },
  {
   "cell_type": "markdown",
   "id": "4f4c8351",
   "metadata": {},
   "source": [
    "## Get data | Get zip codes geolocation data"
   ]
  },
  {
   "cell_type": "code",
   "execution_count": 5,
   "id": "19ae838a",
   "metadata": {},
   "outputs": [
    {
     "data": {
      "text/html": [
       "<div>\n",
       "<style scoped>\n",
       "    .dataframe tbody tr th:only-of-type {\n",
       "        vertical-align: middle;\n",
       "    }\n",
       "\n",
       "    .dataframe tbody tr th {\n",
       "        vertical-align: top;\n",
       "    }\n",
       "\n",
       "    .dataframe thead th {\n",
       "        text-align: right;\n",
       "    }\n",
       "</style>\n",
       "<table border=\"1\" class=\"dataframe\">\n",
       "  <thead>\n",
       "    <tr style=\"text-align: right;\">\n",
       "      <th></th>\n",
       "      <th>postal code</th>\n",
       "      <th>latitude</th>\n",
       "      <th>longitude</th>\n",
       "    </tr>\n",
       "  </thead>\n",
       "  <tbody>\n",
       "    <tr>\n",
       "      <th>0</th>\n",
       "      <td>1602.0</td>\n",
       "      <td>-34.5167</td>\n",
       "      <td>-58.50</td>\n",
       "    </tr>\n",
       "    <tr>\n",
       "      <th>1</th>\n",
       "      <td>1602.0</td>\n",
       "      <td>-34.5167</td>\n",
       "      <td>-58.50</td>\n",
       "    </tr>\n",
       "    <tr>\n",
       "      <th>2</th>\n",
       "      <td>1602.0</td>\n",
       "      <td>-34.5167</td>\n",
       "      <td>-58.50</td>\n",
       "    </tr>\n",
       "    <tr>\n",
       "      <th>3</th>\n",
       "      <td>1602.0</td>\n",
       "      <td>-34.5167</td>\n",
       "      <td>-58.50</td>\n",
       "    </tr>\n",
       "    <tr>\n",
       "      <th>4</th>\n",
       "      <td>1602.0</td>\n",
       "      <td>-34.5167</td>\n",
       "      <td>-58.50</td>\n",
       "    </tr>\n",
       "    <tr>\n",
       "      <th>...</th>\n",
       "      <td>...</td>\n",
       "      <td>...</td>\n",
       "      <td>...</td>\n",
       "    </tr>\n",
       "    <tr>\n",
       "      <th>2832</th>\n",
       "      <td>9400.0</td>\n",
       "      <td>-51.0983</td>\n",
       "      <td>-70.08</td>\n",
       "    </tr>\n",
       "    <tr>\n",
       "      <th>2833</th>\n",
       "      <td>9400.0</td>\n",
       "      <td>-51.0983</td>\n",
       "      <td>-70.08</td>\n",
       "    </tr>\n",
       "    <tr>\n",
       "      <th>2834</th>\n",
       "      <td>9400.0</td>\n",
       "      <td>-51.0983</td>\n",
       "      <td>-70.08</td>\n",
       "    </tr>\n",
       "    <tr>\n",
       "      <th>2835</th>\n",
       "      <td>9400.0</td>\n",
       "      <td>-51.0983</td>\n",
       "      <td>-70.08</td>\n",
       "    </tr>\n",
       "    <tr>\n",
       "      <th>2836</th>\n",
       "      <td>9400.0</td>\n",
       "      <td>-51.0983</td>\n",
       "      <td>-70.08</td>\n",
       "    </tr>\n",
       "  </tbody>\n",
       "</table>\n",
       "<p>2837 rows × 3 columns</p>\n",
       "</div>"
      ],
      "text/plain": [
       "      postal code  latitude  longitude\n",
       "0          1602.0  -34.5167     -58.50\n",
       "1          1602.0  -34.5167     -58.50\n",
       "2          1602.0  -34.5167     -58.50\n",
       "3          1602.0  -34.5167     -58.50\n",
       "4          1602.0  -34.5167     -58.50\n",
       "...           ...       ...        ...\n",
       "2832       9400.0  -51.0983     -70.08\n",
       "2833       9400.0  -51.0983     -70.08\n",
       "2834       9400.0  -51.0983     -70.08\n",
       "2835       9400.0  -51.0983     -70.08\n",
       "2836       9400.0  -51.0983     -70.08\n",
       "\n",
       "[2837 rows x 3 columns]"
      ]
     },
     "execution_count": 5,
     "metadata": {},
     "output_type": "execute_result"
    }
   ],
   "source": [
    "# read file containing the villages/cities/town zip codes witn latitud and longitud\n",
    "csv_file_path = 'villages_zc.csv'\n",
    "zipcodes = pd.read_csv(csv_file_path, encoding='latin1')\n",
    "zipcodes_filtered = zipcodes[['postal code', 'latitude', 'longitude']]\n",
    "zipcodes_filtered\n",
    "# read the file with the zip codes and the geolocation information"
   ]
  },
  {
   "cell_type": "markdown",
   "id": "7f53cf59",
   "metadata": {},
   "source": [
    "## Get data | Get distance to shipping point"
   ]
  },
  {
   "cell_type": "code",
   "execution_count": 6,
   "id": "8e5132d5",
   "metadata": {},
   "outputs": [
    {
     "name": "stdout",
     "output_type": "stream",
     "text": [
      "      postal code  latitude  longitude  distance_to_SP\n",
      "0          1602.0  -34.5167     -58.50      310.074405\n",
      "1          1602.0  -34.5167     -58.50      310.074405\n",
      "2          1602.0  -34.5167     -58.50      310.074405\n",
      "3          1602.0  -34.5167     -58.50      310.074405\n",
      "4          1602.0  -34.5167     -58.50      310.074405\n",
      "...           ...       ...        ...             ...\n",
      "2832       9400.0  -51.0983     -70.08     1758.948589\n",
      "2833       9400.0  -51.0983     -70.08     1758.948589\n",
      "2834       9400.0  -51.0983     -70.08     1758.948589\n",
      "2835       9400.0  -51.0983     -70.08     1758.948589\n",
      "2836       9400.0  -51.0983     -70.08     1758.948589\n",
      "\n",
      "[2837 rows x 4 columns]\n"
     ]
    },
    {
     "name": "stderr",
     "output_type": "stream",
     "text": [
      "C:\\Users\\Santiago\\AppData\\Local\\Temp\\ipykernel_20904\\2263137031.py:33: SettingWithCopyWarning: \n",
      "A value is trying to be set on a copy of a slice from a DataFrame.\n",
      "Try using .loc[row_indexer,col_indexer] = value instead\n",
      "\n",
      "See the caveats in the documentation: https://pandas.pydata.org/pandas-docs/stable/user_guide/indexing.html#returning-a-view-versus-a-copy\n",
      "  zipcodes_filtered['distance_to_SP'] = distances\n"
     ]
    }
   ],
   "source": [
    "from math import radians, sin, cos, sqrt, atan2\n",
    "\n",
    "def haversine_single_point(lat1, lon1, lat2, lon2):\n",
    "    # Convert latitude and longitude from degrees to radians\n",
    "    lat1, lon1, lat2, lon2 = map(radians, [lat1, lon1, lat2, lon2])\n",
    "\n",
    "    dlat = lat2 - lat1\n",
    "    dlon = lon2 - lon1\n",
    "    a = sin(dlat / 2)**2 + cos(lat1) * cos(lat2) * sin(dlon / 2)**2\n",
    "    c = 2 * atan2(sqrt(a), sqrt(1 - a))\n",
    "\n",
    "    radius_earth = 6371.0\n",
    "\n",
    "    distance = radius_earth * c\n",
    "\n",
    "    return distance\n",
    "\n",
    "def calculate_distances(lat1, lon1, lats, lons):\n",
    "    distances = []\n",
    "    for lat2, lon2 in zip(lats, lons):\n",
    "        distance = haversine_single_point(lat1, lon1, lat2, lon2)\n",
    "        distances.append(distance)\n",
    "    return distances\n",
    "\n",
    "fixed_point = {'latitude': -36.9, 'longitude': -60.2833}\n",
    "zipcodes_filtered = zipcodes\n",
    "zipcodes_filtered = zipcodes[['postal code', 'latitude', 'longitude']]\n",
    "\n",
    "# Calculate distances\n",
    "distances = calculate_distances(fixed_point['latitude'], fixed_point['longitude'], zipcodes_filtered['latitude'], zipcodes_filtered['longitude'])\n",
    "\n",
    "# Add distances to the DataFrame\n",
    "zipcodes_filtered['distance_to_SP'] = distances\n",
    "\n",
    "# Save the DataFrame to an Excel file\n",
    "zipcodes_filtered.to_excel('distances.xlsx', index=False)\n",
    "\n",
    "# Display the DataFrame with selected columns\n",
    "print(zipcodes_filtered[['postal code','latitude','longitude','distance_to_SP']])"
   ]
  },
  {
   "cell_type": "code",
   "execution_count": 7,
   "id": "f831927b",
   "metadata": {},
   "outputs": [
    {
     "name": "stdout",
     "output_type": "stream",
     "text": [
      "The distance between the two locations is 1758.95 km.\n"
     ]
    }
   ],
   "source": [
    "# Confirm distance for last zip code\n",
    "def haversine(lat1, lon1, lat2, lon2):\n",
    "    # Convert latitude and longitude from degrees to radians\n",
    "    lat1, lon1, lat2, lon2 = map(radians, [lat1, lon1, lat2, lon2])\n",
    "\n",
    "    dlat = lat2 - lat1\n",
    "    dlon = lon2 - lon1\n",
    "    a = sin(dlat / 2)**2 + cos(lat1) * cos(lat2) * sin(dlon / 2)**2\n",
    "    c = 2 * atan2(sqrt(a), sqrt(1 - a))\n",
    "    distance = 6371 * c  # Radius of the Earth in kilometers (mean value)\n",
    "\n",
    "    return distance\n",
    "\n",
    "lat1, lon1 = -36.9, -60.2833  # Latitude and longitude of location 1 \n",
    "lat2, lon2 = -51.0983, -70.08  # Latitude and longitude of location 2 \n",
    "\n",
    "distance = haversine(lat1, lon1, lat2, lon2)\n",
    "print(f\"The distance between the two locations is {distance:.2f} km.\")"
   ]
  },
  {
   "cell_type": "code",
   "execution_count": 8,
   "id": "ff0d948b",
   "metadata": {},
   "outputs": [
    {
     "data": {
      "text/plain": [
       "7600.0    77\n",
       "9400.0    69\n",
       "5719.0    59\n",
       "5000.0    54\n",
       "3302.0    43\n",
       "Name: postal code, dtype: int64"
      ]
     },
     "execution_count": 8,
     "metadata": {},
     "output_type": "execute_result"
    }
   ],
   "source": [
    "zipcodes_filtered['postal code'].value_counts().head()"
   ]
  },
  {
   "cell_type": "code",
   "execution_count": 9,
   "id": "22a8099b",
   "metadata": {},
   "outputs": [],
   "source": [
    "zipcodes_filtered = zipcodes_filtered.drop_duplicates(subset=['postal code'], keep='last')"
   ]
  },
  {
   "cell_type": "code",
   "execution_count": 10,
   "id": "37faa7b5",
   "metadata": {},
   "outputs": [],
   "source": [
    "null_values = zipcodes_filtered[zipcodes_filtered.isnull().any(axis=1)]"
   ]
  },
  {
   "cell_type": "code",
   "execution_count": 11,
   "id": "c50ea617",
   "metadata": {},
   "outputs": [],
   "source": [
    "zipcodes_filtered.dropna(inplace=True)"
   ]
  },
  {
   "cell_type": "code",
   "execution_count": 12,
   "id": "4dac6190",
   "metadata": {},
   "outputs": [
    {
     "data": {
      "text/plain": [
       "(5801, 59)"
      ]
     },
     "execution_count": 12,
     "metadata": {},
     "output_type": "execute_result"
    }
   ],
   "source": [
    "merged_df = pd.merge(subtotal_df, zipcodes_filtered, left_on='zip_code', right_on='postal code', how='left')\n",
    "merged_df.shape"
   ]
  },
  {
   "cell_type": "code",
   "execution_count": 13,
   "id": "a141ded4",
   "metadata": {},
   "outputs": [],
   "source": [
    "merged_df.to_excel('merged_df.xlsx', index=False)"
   ]
  },
  {
   "cell_type": "code",
   "execution_count": 14,
   "id": "f3c05950",
   "metadata": {},
   "outputs": [
    {
     "data": {
      "text/plain": [
       "Index(['Channel_id', 'Channel', 'Sales_people_id', 'Sales_people',\n",
       "       'Invoice_class', 'Shipping point_id', 'Shipping_point', 'Type_client',\n",
       "       'client_id', 'client_name', 'zip_code', 'Category_id', 'Category_desc',\n",
       "       'Sector_id', 'Segment', 'Product_id', 'Product', 'Invoice_id',\n",
       "       'Type_inv', 'Detail', 'Quantity', 'Unit.measur.', 'Currency',\n",
       "       'Payment_condition', 'Country', 'Sales organization', 'Center',\n",
       "       'Unit_price', 'Unit.price USD ', 'inter-company transport',\n",
       "       'Operating costs', 'Freight', 'Unit.price', 'Unit.price.1', 'Total',\n",
       "       'Total USD', 'Descount amount', 'Descount amount USD', '% descount',\n",
       "       'Net amount', 'Net amount USD', 'cargo destin_id', 'cargo destination',\n",
       "       'invoice date', 'Month_v', 'Region', 'Province', 'Village', 'Net',\n",
       "       'Sales document', 'Product.1', 'Sales doc descr.', 'Doc.date',\n",
       "       'Sales doc class', 'Incoterms', 'postal code', 'latitude', 'longitude',\n",
       "       'distance_to_SP'],\n",
       "      dtype='object')"
      ]
     },
     "execution_count": 14,
     "metadata": {},
     "output_type": "execute_result"
    }
   ],
   "source": [
    "merged_df.columns"
   ]
  },
  {
   "cell_type": "code",
   "execution_count": 15,
   "id": "326d26f4",
   "metadata": {},
   "outputs": [],
   "source": [
    "merged_to_clean_df = merged_df.drop(columns=['postal code', 'latitude', 'longitude','Sales_people_id',\n",
    "                                             'inter-company transport','Sector_id','Category_id','Sales document',\n",
    "                                             'Descount amount','Unit_price','zip_code','Operating costs', 'Freight',\n",
    "                                             'Unit.price', 'Unit.price.1', 'Total','Sales doc class','Center',\n",
    "                                             'Sales organization','Country','Currency','Detail','Type_inv',\n",
    "                                             'Shipping point_id','Product.1','Region','Net amount', 'cargo destin_id',\n",
    "                                             'cargo destination', 'Net', 'Channel_id']).copy()"
   ]
  },
  {
   "cell_type": "markdown",
   "id": "4372fff1",
   "metadata": {},
   "source": [
    "## Clean data | Cleaning numerical"
   ]
  },
  {
   "cell_type": "code",
   "execution_count": 16,
   "id": "21a28f24",
   "metadata": {},
   "outputs": [
    {
     "data": {
      "text/plain": [
       "Index(['client_id', 'Product_id', 'Invoice_id', 'Quantity', 'Unit.price USD ',\n",
       "       'Total USD', 'Descount amount USD', '% descount', 'Net amount USD',\n",
       "       'distance_to_SP'],\n",
       "      dtype='object')"
      ]
     },
     "execution_count": 16,
     "metadata": {},
     "output_type": "execute_result"
    }
   ],
   "source": [
    "numerical_df=merged_to_clean_df.select_dtypes('number')\n",
    "numerical_df.columns"
   ]
  },
  {
   "cell_type": "code",
   "execution_count": 17,
   "id": "75272b74",
   "metadata": {},
   "outputs": [
    {
     "data": {
      "text/html": [
       "<div>\n",
       "<style scoped>\n",
       "    .dataframe tbody tr th:only-of-type {\n",
       "        vertical-align: middle;\n",
       "    }\n",
       "\n",
       "    .dataframe tbody tr th {\n",
       "        vertical-align: top;\n",
       "    }\n",
       "\n",
       "    .dataframe thead th {\n",
       "        text-align: right;\n",
       "    }\n",
       "</style>\n",
       "<table border=\"1\" class=\"dataframe\">\n",
       "  <thead>\n",
       "    <tr style=\"text-align: right;\">\n",
       "      <th></th>\n",
       "      <th>client_id</th>\n",
       "      <th>Product_id</th>\n",
       "      <th>Invoice_id</th>\n",
       "      <th>Quantity</th>\n",
       "      <th>Unit.price USD</th>\n",
       "      <th>Total USD</th>\n",
       "      <th>Descount amount USD</th>\n",
       "      <th>% descount</th>\n",
       "      <th>Net amount USD</th>\n",
       "      <th>distance_to_SP</th>\n",
       "    </tr>\n",
       "  </thead>\n",
       "  <tbody>\n",
       "    <tr>\n",
       "      <th>0</th>\n",
       "      <td>301264</td>\n",
       "      <td>80067</td>\n",
       "      <td>90521561</td>\n",
       "      <td>640.0</td>\n",
       "      <td>4.274353</td>\n",
       "      <td>2735.568588</td>\n",
       "      <td>-246.748235</td>\n",
       "      <td>-0.0902</td>\n",
       "      <td>2488.820353</td>\n",
       "      <td>261.175131</td>\n",
       "    </tr>\n",
       "    <tr>\n",
       "      <th>1</th>\n",
       "      <td>301502</td>\n",
       "      <td>80067</td>\n",
       "      <td>90521570</td>\n",
       "      <td>200.0</td>\n",
       "      <td>4.274353</td>\n",
       "      <td>854.865176</td>\n",
       "      <td>-126.947529</td>\n",
       "      <td>-0.1485</td>\n",
       "      <td>727.917647</td>\n",
       "      <td>264.819207</td>\n",
       "    </tr>\n",
       "    <tr>\n",
       "      <th>2</th>\n",
       "      <td>301502</td>\n",
       "      <td>80067</td>\n",
       "      <td>90521570</td>\n",
       "      <td>600.0</td>\n",
       "      <td>4.274353</td>\n",
       "      <td>2564.595529</td>\n",
       "      <td>-380.842471</td>\n",
       "      <td>-0.1485</td>\n",
       "      <td>2183.753059</td>\n",
       "      <td>264.819207</td>\n",
       "    </tr>\n",
       "    <tr>\n",
       "      <th>3</th>\n",
       "      <td>301525</td>\n",
       "      <td>80067</td>\n",
       "      <td>90521573</td>\n",
       "      <td>640.0</td>\n",
       "      <td>4.274353</td>\n",
       "      <td>2735.568588</td>\n",
       "      <td>-246.748235</td>\n",
       "      <td>-0.0902</td>\n",
       "      <td>2488.820353</td>\n",
       "      <td>0.000000</td>\n",
       "    </tr>\n",
       "    <tr>\n",
       "      <th>4</th>\n",
       "      <td>301525</td>\n",
       "      <td>80067</td>\n",
       "      <td>90521573</td>\n",
       "      <td>640.0</td>\n",
       "      <td>4.274353</td>\n",
       "      <td>2735.568588</td>\n",
       "      <td>-246.748235</td>\n",
       "      <td>-0.0902</td>\n",
       "      <td>2488.820353</td>\n",
       "      <td>0.000000</td>\n",
       "    </tr>\n",
       "  </tbody>\n",
       "</table>\n",
       "</div>"
      ],
      "text/plain": [
       "   client_id  Product_id  Invoice_id  Quantity  Unit.price USD     Total USD  \\\n",
       "0     301264       80067    90521561     640.0         4.274353  2735.568588   \n",
       "1     301502       80067    90521570     200.0         4.274353   854.865176   \n",
       "2     301502       80067    90521570     600.0         4.274353  2564.595529   \n",
       "3     301525       80067    90521573     640.0         4.274353  2735.568588   \n",
       "4     301525       80067    90521573     640.0         4.274353  2735.568588   \n",
       "\n",
       "   Descount amount USD  % descount  Net amount USD  distance_to_SP  \n",
       "0          -246.748235     -0.0902     2488.820353      261.175131  \n",
       "1          -126.947529     -0.1485      727.917647      264.819207  \n",
       "2          -380.842471     -0.1485     2183.753059      264.819207  \n",
       "3          -246.748235     -0.0902     2488.820353        0.000000  \n",
       "4          -246.748235     -0.0902     2488.820353        0.000000  "
      ]
     },
     "execution_count": 17,
     "metadata": {},
     "output_type": "execute_result"
    }
   ],
   "source": [
    "numerical_df.head()"
   ]
  },
  {
   "cell_type": "code",
   "execution_count": 18,
   "id": "3044e5dd",
   "metadata": {},
   "outputs": [
    {
     "data": {
      "text/plain": [
       "client_id               0\n",
       "Product_id              0\n",
       "Invoice_id              0\n",
       "Quantity                0\n",
       "Unit.price USD          0\n",
       "Total USD               0\n",
       "Descount amount USD     0\n",
       "% descount              0\n",
       "Net amount USD          0\n",
       "distance_to_SP         66\n",
       "dtype: int64"
      ]
     },
     "execution_count": 18,
     "metadata": {},
     "output_type": "execute_result"
    }
   ],
   "source": [
    "# NAN rows\n",
    "nan_check = numerical_df.isna().sum()\n",
    "nan_check"
   ]
  },
  {
   "cell_type": "code",
   "execution_count": 19,
   "id": "5fb25942",
   "metadata": {},
   "outputs": [],
   "source": [
    "# I can see there're 66 nan in distance to shipping point"
   ]
  },
  {
   "cell_type": "markdown",
   "id": "f057de4c",
   "metadata": {},
   "source": [
    "### Clean data | Distance to SP"
   ]
  },
  {
   "cell_type": "code",
   "execution_count": 20,
   "id": "ec3fcd1f",
   "metadata": {},
   "outputs": [
    {
     "data": {
      "text/plain": [
       "66"
      ]
     },
     "execution_count": 20,
     "metadata": {},
     "output_type": "execute_result"
    }
   ],
   "source": [
    "nan_check = numerical_df['distance_to_SP'].isna().sum()\n",
    "nan_check"
   ]
  },
  {
   "cell_type": "code",
   "execution_count": 21,
   "id": "6ac18b57",
   "metadata": {},
   "outputs": [],
   "source": [
    "for column in numerical_df.columns:\n",
    "    mode_value = numerical_df['distance_to_SP'].mode()[0]\n",
    "    numerical_df['distance_to_SP'].fillna(mode_value, inplace=True)"
   ]
  },
  {
   "cell_type": "markdown",
   "id": "ac03947a",
   "metadata": {},
   "source": [
    "### Clean data | Product_id"
   ]
  },
  {
   "cell_type": "code",
   "execution_count": 22,
   "id": "75a9bf92",
   "metadata": {},
   "outputs": [
    {
     "data": {
      "text/plain": [
       "80067    5801\n",
       "Name: Product_id, dtype: int64"
      ]
     },
     "execution_count": 22,
     "metadata": {},
     "output_type": "execute_result"
    }
   ],
   "source": [
    "numerical_df['Product_id'].value_counts()"
   ]
  },
  {
   "cell_type": "markdown",
   "id": "55bef9b2",
   "metadata": {},
   "source": [
    "### Clean data | Quantity"
   ]
  },
  {
   "cell_type": "code",
   "execution_count": 23,
   "id": "beaf6eb9",
   "metadata": {},
   "outputs": [
    {
     "data": {
      "text/plain": [
       "640.0    1952\n",
       "600.0    1339\n",
       "320.0     468\n",
       "560.0     456\n",
       "400.0     311\n",
       "Name: Quantity, dtype: int64"
      ]
     },
     "execution_count": 23,
     "metadata": {},
     "output_type": "execute_result"
    }
   ],
   "source": [
    "numerical_df['Quantity'].value_counts().head()"
   ]
  },
  {
   "cell_type": "markdown",
   "id": "72013c58",
   "metadata": {},
   "source": [
    "### Clean data | Unit.price USD"
   ]
  },
  {
   "cell_type": "code",
   "execution_count": 24,
   "id": "7d5b039a",
   "metadata": {},
   "outputs": [],
   "source": [
    "numerical_df.rename(columns={'Unit.price USD ':'Unit.price'}, inplace=True)"
   ]
  },
  {
   "cell_type": "code",
   "execution_count": 25,
   "id": "69a3e104",
   "metadata": {},
   "outputs": [
    {
     "data": {
      "text/plain": [
       "4.645294    2284\n",
       "4.466588    1967\n",
       "4.831176    1360\n",
       "4.274353     190\n",
       "Name: Unit.price, dtype: int64"
      ]
     },
     "execution_count": 25,
     "metadata": {},
     "output_type": "execute_result"
    }
   ],
   "source": [
    "numerical_df['Unit.price'].value_counts()"
   ]
  },
  {
   "cell_type": "markdown",
   "id": "99c42636",
   "metadata": {},
   "source": [
    "### Clean data | Total USD"
   ]
  },
  {
   "cell_type": "code",
   "execution_count": 26,
   "id": "1dde96ee",
   "metadata": {},
   "outputs": [],
   "source": [
    "# change column name to make it more ease to understand\n",
    "numerical_df.rename(columns={'Total USD':'Total'}, inplace=True) "
   ]
  },
  {
   "cell_type": "markdown",
   "id": "f94b1742",
   "metadata": {},
   "source": [
    "### Clean data | Descount amount USD"
   ]
  },
  {
   "cell_type": "code",
   "execution_count": 27,
   "id": "e33a55a1",
   "metadata": {},
   "outputs": [],
   "source": [
    "# change column name to make it more ease to understand\n",
    "numerical_df.rename(columns={'Descount amount USD':'Descount amount'}, inplace=True)"
   ]
  },
  {
   "cell_type": "code",
   "execution_count": 28,
   "id": "9b42abdb",
   "metadata": {},
   "outputs": [
    {
     "name": "stdout",
     "output_type": "stream",
     "text": [
      "Number of null values in '% descount' column: 0\n"
     ]
    }
   ],
   "source": [
    "null_count = numerical_df['Descount amount'].isna().sum()\n",
    "print(\"Number of null values in '% descount' column:\", null_count)"
   ]
  },
  {
   "cell_type": "markdown",
   "id": "57cc792d",
   "metadata": {},
   "source": [
    "### Clean data | % descount"
   ]
  },
  {
   "cell_type": "code",
   "execution_count": 29,
   "id": "7ba3a187",
   "metadata": {},
   "outputs": [
    {
     "data": {
      "text/html": [
       "<div>\n",
       "<style scoped>\n",
       "    .dataframe tbody tr th:only-of-type {\n",
       "        vertical-align: middle;\n",
       "    }\n",
       "\n",
       "    .dataframe tbody tr th {\n",
       "        vertical-align: top;\n",
       "    }\n",
       "\n",
       "    .dataframe thead th {\n",
       "        text-align: right;\n",
       "    }\n",
       "</style>\n",
       "<table border=\"1\" class=\"dataframe\">\n",
       "  <thead>\n",
       "    <tr style=\"text-align: right;\">\n",
       "      <th></th>\n",
       "      <th>client_id</th>\n",
       "      <th>Product_id</th>\n",
       "      <th>Invoice_id</th>\n",
       "      <th>Quantity</th>\n",
       "      <th>Unit.price</th>\n",
       "      <th>Total</th>\n",
       "      <th>Descount amount</th>\n",
       "      <th>% descount</th>\n",
       "      <th>Net amount USD</th>\n",
       "      <th>distance_to_SP</th>\n",
       "    </tr>\n",
       "  </thead>\n",
       "  <tbody>\n",
       "    <tr>\n",
       "      <th>0</th>\n",
       "      <td>301264</td>\n",
       "      <td>80067</td>\n",
       "      <td>90521561</td>\n",
       "      <td>640.0</td>\n",
       "      <td>4.274353</td>\n",
       "      <td>2735.568588</td>\n",
       "      <td>-246.748235</td>\n",
       "      <td>-0.0902</td>\n",
       "      <td>2488.820353</td>\n",
       "      <td>261.175131</td>\n",
       "    </tr>\n",
       "    <tr>\n",
       "      <th>1</th>\n",
       "      <td>301502</td>\n",
       "      <td>80067</td>\n",
       "      <td>90521570</td>\n",
       "      <td>200.0</td>\n",
       "      <td>4.274353</td>\n",
       "      <td>854.865176</td>\n",
       "      <td>-126.947529</td>\n",
       "      <td>-0.1485</td>\n",
       "      <td>727.917647</td>\n",
       "      <td>264.819207</td>\n",
       "    </tr>\n",
       "    <tr>\n",
       "      <th>2</th>\n",
       "      <td>301502</td>\n",
       "      <td>80067</td>\n",
       "      <td>90521570</td>\n",
       "      <td>600.0</td>\n",
       "      <td>4.274353</td>\n",
       "      <td>2564.595529</td>\n",
       "      <td>-380.842471</td>\n",
       "      <td>-0.1485</td>\n",
       "      <td>2183.753059</td>\n",
       "      <td>264.819207</td>\n",
       "    </tr>\n",
       "    <tr>\n",
       "      <th>3</th>\n",
       "      <td>301525</td>\n",
       "      <td>80067</td>\n",
       "      <td>90521573</td>\n",
       "      <td>640.0</td>\n",
       "      <td>4.274353</td>\n",
       "      <td>2735.568588</td>\n",
       "      <td>-246.748235</td>\n",
       "      <td>-0.0902</td>\n",
       "      <td>2488.820353</td>\n",
       "      <td>0.000000</td>\n",
       "    </tr>\n",
       "    <tr>\n",
       "      <th>4</th>\n",
       "      <td>301525</td>\n",
       "      <td>80067</td>\n",
       "      <td>90521573</td>\n",
       "      <td>640.0</td>\n",
       "      <td>4.274353</td>\n",
       "      <td>2735.568588</td>\n",
       "      <td>-246.748235</td>\n",
       "      <td>-0.0902</td>\n",
       "      <td>2488.820353</td>\n",
       "      <td>0.000000</td>\n",
       "    </tr>\n",
       "  </tbody>\n",
       "</table>\n",
       "</div>"
      ],
      "text/plain": [
       "   client_id  Product_id  Invoice_id  Quantity  Unit.price        Total  \\\n",
       "0     301264       80067    90521561     640.0    4.274353  2735.568588   \n",
       "1     301502       80067    90521570     200.0    4.274353   854.865176   \n",
       "2     301502       80067    90521570     600.0    4.274353  2564.595529   \n",
       "3     301525       80067    90521573     640.0    4.274353  2735.568588   \n",
       "4     301525       80067    90521573     640.0    4.274353  2735.568588   \n",
       "\n",
       "   Descount amount  % descount  Net amount USD  distance_to_SP  \n",
       "0      -246.748235     -0.0902     2488.820353      261.175131  \n",
       "1      -126.947529     -0.1485      727.917647      264.819207  \n",
       "2      -380.842471     -0.1485     2183.753059      264.819207  \n",
       "3      -246.748235     -0.0902     2488.820353        0.000000  \n",
       "4      -246.748235     -0.0902     2488.820353        0.000000  "
      ]
     },
     "execution_count": 29,
     "metadata": {},
     "output_type": "execute_result"
    }
   ],
   "source": [
    "numerical_df.head()"
   ]
  },
  {
   "cell_type": "markdown",
   "id": "73b0f0c4",
   "metadata": {},
   "source": [
    "### Clean data | Net amount USD"
   ]
  },
  {
   "cell_type": "code",
   "execution_count": 30,
   "id": "c2a0e3c6",
   "metadata": {},
   "outputs": [],
   "source": [
    "# change column name to make it more ease to understand\n",
    "numerical_df.rename(columns={'Net amount USD':'Net amount'}, inplace=True)"
   ]
  },
  {
   "cell_type": "code",
   "execution_count": null,
   "id": "947d8d11",
   "metadata": {},
   "outputs": [],
   "source": []
  },
  {
   "cell_type": "markdown",
   "id": "120543ee",
   "metadata": {},
   "source": [
    "## Clean data | Outliers"
   ]
  },
  {
   "cell_type": "code",
   "execution_count": 31,
   "id": "f44f8b64",
   "metadata": {},
   "outputs": [
    {
     "data": {
      "text/plain": [
       "Index(['client_id', 'Product_id', 'Invoice_id', 'Quantity', 'Unit.price',\n",
       "       'Total', 'Descount amount', '% descount', 'Net amount',\n",
       "       'distance_to_SP'],\n",
       "      dtype='object')"
      ]
     },
     "execution_count": 31,
     "metadata": {},
     "output_type": "execute_result"
    }
   ],
   "source": [
    "numerical_df.columns"
   ]
  },
  {
   "cell_type": "code",
   "execution_count": 32,
   "id": "a3a457b6",
   "metadata": {},
   "outputs": [
    {
     "name": "stdout",
     "output_type": "stream",
     "text": [
      "           Province  Quantity  Net amount  Total USD\n",
      "0      Buenos Aires 2,448,600 855,456,512 11,311,024\n",
      "5        Entre Rios   190,560  56,880,686    874,657\n",
      "12         Santa Fé   175,520  56,801,601    808,587\n",
      "1   Capital Federal    72,360  25,209,851    332,048\n",
      "10        Rio Negro    48,400  17,175,591    225,423\n",
      "2             Chaco    38,280  11,463,592    176,624\n",
      "9           Neuquen    31,120  11,044,537    144,762\n",
      "7          La Pampa    23,800   8,482,982    110,270\n",
      "11       Santa Cruz    19,800   6,949,439     92,104\n",
      "3            Chubut    14,760   5,071,573     67,877\n",
      "4        Corrientes     7,360   2,340,238     33,917\n",
      "8          Misiones     5,720   1,814,383     26,309\n",
      "6           Formosa       600     194,446      2,680\n"
     ]
    }
   ],
   "source": [
    "# We are going to focus on the most significative acording to quantity, net amount and total USD\n",
    "pd.options.display.float_format = '{:,.0f}'.format\n",
    "province_summary = merged_df.groupby('Province').agg({\n",
    "    'Quantity': 'sum',\n",
    "    'Net amount': 'sum',\n",
    "    'Total USD': 'sum'\n",
    "}).reset_index()\n",
    "province_summary_sorted = province_summary.sort_values(by='Total USD', ascending=False)\n",
    "print(province_summary_sorted)"
   ]
  },
  {
   "cell_type": "markdown",
   "id": "cb4a235e",
   "metadata": {},
   "source": [
    "### Outliers | Quantity"
   ]
  },
  {
   "cell_type": "code",
   "execution_count": 33,
   "id": "1089466c",
   "metadata": {
    "scrolled": true
   },
   "outputs": [
    {
     "data": {
      "image/png": "[encoded data removed]",
      "text/plain": [
       "<Figure size 432x288 with 1 Axes>"
      ]
     },
     "metadata": {
      "needs_background": "light"
     },
     "output_type": "display_data"
    }
   ],
   "source": [
    "import seaborn as sns\n",
    "import matplotlib.pyplot as plt\n",
    "\n",
    "sns.boxplot(x=numerical_df['Quantity'])\n",
    "plt.show()\n",
    "\n",
    "# usually occurs when one load carries \n",
    "# part of the product and the rest of the load is another product, it is not frequent but it does happen."
   ]
  },
  {
   "cell_type": "markdown",
   "id": "af50f1ae",
   "metadata": {},
   "source": [
    "### Outliers | Unit price"
   ]
  },
  {
   "cell_type": "code",
   "execution_count": 34,
   "id": "d662f38f",
   "metadata": {},
   "outputs": [
    {
     "data": {
      "image/png": "[encoded data removed]",
      "text/plain": [
       "<Figure size 432x288 with 1 Axes>"
      ]
     },
     "metadata": {
      "needs_background": "light"
     },
     "output_type": "display_data"
    }
   ],
   "source": [
    "sns.boxplot(x=numerical_df['Unit.price'])\n",
    "plt.show()\n",
    "\n",
    "# reasonable, the unit price of this product is the same for the whole market, no matter how far away the customer \n",
    "# is located or how important the customer is, the final price is given by the application of discounts."
   ]
  },
  {
   "cell_type": "markdown",
   "id": "c95cb64f",
   "metadata": {},
   "source": [
    "### Outliers | % descount"
   ]
  },
  {
   "cell_type": "code",
   "execution_count": 35,
   "id": "82971885",
   "metadata": {},
   "outputs": [
    {
     "data": {
      "image/png": "[encoded data removed]",
      "text/plain": [
       "<Figure size 432x288 with 1 Axes>"
      ]
     },
     "metadata": {
      "needs_background": "light"
     },
     "output_type": "display_data"
    }
   ],
   "source": [
    "sns.boxplot(x=numerical_df['% descount'])\n",
    "plt.show()"
   ]
  },
  {
   "cell_type": "markdown",
   "id": "754d68ec",
   "metadata": {},
   "source": [
    "### Outliers | Distance to SP"
   ]
  },
  {
   "cell_type": "code",
   "execution_count": 36,
   "id": "e42523bc",
   "metadata": {},
   "outputs": [
    {
     "data": {
      "image/png": "[encoded data removed]",
      "text/plain": [
       "<Figure size 432x288 with 1 Axes>"
      ]
     },
     "metadata": {
      "needs_background": "light"
     },
     "output_type": "display_data"
    }
   ],
   "source": [
    "# Outliers in the province of BUENOS AIRES\n",
    "import seaborn as sns\n",
    "import matplotlib.pyplot as plt\n",
    "buenos_aires_df = merged_df[merged_df['Province'] == 'Buenos Aires']\n",
    "sns.boxplot(y=buenos_aires_df['distance_to_SP'])\n",
    "plt.show()"
   ]
  },
  {
   "cell_type": "code",
   "execution_count": 37,
   "id": "c68b6190",
   "metadata": {},
   "outputs": [
    {
     "data": {
      "text/html": [
       "<div>\n",
       "<style scoped>\n",
       "    .dataframe tbody tr th:only-of-type {\n",
       "        vertical-align: middle;\n",
       "    }\n",
       "\n",
       "    .dataframe tbody tr th {\n",
       "        vertical-align: top;\n",
       "    }\n",
       "\n",
       "    .dataframe thead th {\n",
       "        text-align: right;\n",
       "    }\n",
       "</style>\n",
       "<table border=\"1\" class=\"dataframe\">\n",
       "  <thead>\n",
       "    <tr style=\"text-align: right;\">\n",
       "      <th></th>\n",
       "      <th>client_id</th>\n",
       "      <th>Province</th>\n",
       "      <th>Village</th>\n",
       "      <th>distance_to_SP</th>\n",
       "    </tr>\n",
       "  </thead>\n",
       "  <tbody>\n",
       "    <tr>\n",
       "      <th>9</th>\n",
       "      <td>302824</td>\n",
       "      <td>Buenos Aires</td>\n",
       "      <td>OLAVARRIA</td>\n",
       "      <td>1,333</td>\n",
       "    </tr>\n",
       "    <tr>\n",
       "      <th>0</th>\n",
       "      <td>301331</td>\n",
       "      <td>Buenos Aires</td>\n",
       "      <td>OLAVARRIA</td>\n",
       "      <td>0</td>\n",
       "    </tr>\n",
       "    <tr>\n",
       "      <th>1</th>\n",
       "      <td>301366</td>\n",
       "      <td>Buenos Aires</td>\n",
       "      <td>OLAVARRIA</td>\n",
       "      <td>0</td>\n",
       "    </tr>\n",
       "    <tr>\n",
       "      <th>2</th>\n",
       "      <td>301525</td>\n",
       "      <td>Buenos Aires</td>\n",
       "      <td>OLAVARRIA</td>\n",
       "      <td>0</td>\n",
       "    </tr>\n",
       "    <tr>\n",
       "      <th>3</th>\n",
       "      <td>301539</td>\n",
       "      <td>Buenos Aires</td>\n",
       "      <td>OLAVARRIA</td>\n",
       "      <td>0</td>\n",
       "    </tr>\n",
       "    <tr>\n",
       "      <th>4</th>\n",
       "      <td>301702</td>\n",
       "      <td>Buenos Aires</td>\n",
       "      <td>OLAVARRIA</td>\n",
       "      <td>0</td>\n",
       "    </tr>\n",
       "    <tr>\n",
       "      <th>6</th>\n",
       "      <td>301914</td>\n",
       "      <td>Buenos Aires</td>\n",
       "      <td>OLAVARRIA</td>\n",
       "      <td>0</td>\n",
       "    </tr>\n",
       "    <tr>\n",
       "      <th>7</th>\n",
       "      <td>302723</td>\n",
       "      <td>Buenos Aires</td>\n",
       "      <td>OLAVARRIA</td>\n",
       "      <td>0</td>\n",
       "    </tr>\n",
       "    <tr>\n",
       "      <th>8</th>\n",
       "      <td>302738</td>\n",
       "      <td>Buenos Aires</td>\n",
       "      <td>OLAVARRIA</td>\n",
       "      <td>0</td>\n",
       "    </tr>\n",
       "    <tr>\n",
       "      <th>10</th>\n",
       "      <td>304103</td>\n",
       "      <td>Buenos Aires</td>\n",
       "      <td>OLAVARRIA</td>\n",
       "      <td>0</td>\n",
       "    </tr>\n",
       "    <tr>\n",
       "      <th>11</th>\n",
       "      <td>304858</td>\n",
       "      <td>Buenos Aires</td>\n",
       "      <td>OLAVARRIA</td>\n",
       "      <td>0</td>\n",
       "    </tr>\n",
       "    <tr>\n",
       "      <th>5</th>\n",
       "      <td>301896</td>\n",
       "      <td>Buenos Aires</td>\n",
       "      <td>OLAVARRIA</td>\n",
       "      <td>NaN</td>\n",
       "    </tr>\n",
       "  </tbody>\n",
       "</table>\n",
       "</div>"
      ],
      "text/plain": [
       "    client_id      Province    Village  distance_to_SP\n",
       "9      302824  Buenos Aires  OLAVARRIA           1,333\n",
       "0      301331  Buenos Aires  OLAVARRIA               0\n",
       "1      301366  Buenos Aires  OLAVARRIA               0\n",
       "2      301525  Buenos Aires  OLAVARRIA               0\n",
       "3      301539  Buenos Aires  OLAVARRIA               0\n",
       "4      301702  Buenos Aires  OLAVARRIA               0\n",
       "6      301914  Buenos Aires  OLAVARRIA               0\n",
       "7      302723  Buenos Aires  OLAVARRIA               0\n",
       "8      302738  Buenos Aires  OLAVARRIA               0\n",
       "10     304103  Buenos Aires  OLAVARRIA               0\n",
       "11     304858  Buenos Aires  OLAVARRIA               0\n",
       "5      301896  Buenos Aires  OLAVARRIA             NaN"
      ]
     },
     "execution_count": 37,
     "metadata": {},
     "output_type": "execute_result"
    }
   ],
   "source": [
    "selected_columns = ['Province', 'Village', 'client_id', 'distance_to_SP']\n",
    "filtered_df = merged_df.loc[merged_df['Village'] == 'OLAVARRIA', selected_columns].head(100)\n",
    "filtered_grouped_df = filtered_df.groupby(['client_id', 'Province', 'Village']).mean().reset_index()\n",
    "filtered_grouped_df = filtered_grouped_df.sort_values(by='distance_to_SP', ascending=False)\n",
    "filtered_grouped_df"
   ]
  },
  {
   "cell_type": "code",
   "execution_count": 38,
   "id": "2daeb454",
   "metadata": {},
   "outputs": [],
   "source": [
    "# I can see that there is something wrong with the distance of this client...\n",
    "client_id_to_replace = 302824\n",
    "replacement_value = 0\n",
    "numerical_df.loc[numerical_df['client_id'] == client_id_to_replace, 'distance_to_SP'] = replacement_value"
   ]
  },
  {
   "cell_type": "code",
   "execution_count": 39,
   "id": "13ff773a",
   "metadata": {},
   "outputs": [
    {
     "data": {
      "text/html": [
       "<div>\n",
       "<style scoped>\n",
       "    .dataframe tbody tr th:only-of-type {\n",
       "        vertical-align: middle;\n",
       "    }\n",
       "\n",
       "    .dataframe tbody tr th {\n",
       "        vertical-align: top;\n",
       "    }\n",
       "\n",
       "    .dataframe thead th {\n",
       "        text-align: right;\n",
       "    }\n",
       "</style>\n",
       "<table border=\"1\" class=\"dataframe\">\n",
       "  <thead>\n",
       "    <tr style=\"text-align: right;\">\n",
       "      <th></th>\n",
       "      <th>client_id</th>\n",
       "      <th>Product_id</th>\n",
       "      <th>Invoice_id</th>\n",
       "      <th>Quantity</th>\n",
       "      <th>Unit.price</th>\n",
       "      <th>Total</th>\n",
       "      <th>Descount amount</th>\n",
       "      <th>% descount</th>\n",
       "      <th>Net amount</th>\n",
       "      <th>distance_to_SP</th>\n",
       "    </tr>\n",
       "  </thead>\n",
       "  <tbody>\n",
       "    <tr>\n",
       "      <th>0</th>\n",
       "      <td>302824</td>\n",
       "      <td>80,067</td>\n",
       "      <td>90,551,054</td>\n",
       "      <td>640</td>\n",
       "      <td>5</td>\n",
       "      <td>2,948</td>\n",
       "      <td>-323</td>\n",
       "      <td>-0</td>\n",
       "      <td>2,625</td>\n",
       "      <td>0</td>\n",
       "    </tr>\n",
       "  </tbody>\n",
       "</table>\n",
       "</div>"
      ],
      "text/plain": [
       "   client_id  Product_id  Invoice_id  Quantity  Unit.price  Total  \\\n",
       "0     302824      80,067  90,551,054       640           5  2,948   \n",
       "\n",
       "   Descount amount  % descount  Net amount  distance_to_SP  \n",
       "0             -323          -0       2,625               0  "
      ]
     },
     "execution_count": 39,
     "metadata": {},
     "output_type": "execute_result"
    }
   ],
   "source": [
    "client_id_to_filter = 302824\n",
    "filtered_df = numerical_df[numerical_df['client_id'] == client_id_to_filter]\n",
    "grouped_df = filtered_df.groupby('client_id').mean().reset_index()\n",
    "grouped_df"
   ]
  },
  {
   "cell_type": "code",
   "execution_count": 40,
   "id": "15097d36",
   "metadata": {},
   "outputs": [
    {
     "data": {
      "image/png": "[encoded data removed]",
      "text/plain": [
       "<Figure size 432x288 with 1 Axes>"
      ]
     },
     "metadata": {
      "needs_background": "light"
     },
     "output_type": "display_data"
    }
   ],
   "source": [
    "# Outliers in the provinces lA PAMPA, NEUQUEN and RIO NEGRO\n",
    "neuquen_rio_negro_df = merged_df[(merged_df['Province'] == 'Neuquen') | (merged_df['Province'] == 'Rio Negro')| (merged_df['Province'] == 'La Pampa')]\n",
    "sns.boxplot(y=neuquen_rio_negro_df['distance_to_SP'])\n",
    "plt.show()"
   ]
  },
  {
   "cell_type": "code",
   "execution_count": 41,
   "id": "5d63dd86",
   "metadata": {},
   "outputs": [
    {
     "data": {
      "text/html": [
       "<div>\n",
       "<style scoped>\n",
       "    .dataframe tbody tr th:only-of-type {\n",
       "        vertical-align: middle;\n",
       "    }\n",
       "\n",
       "    .dataframe tbody tr th {\n",
       "        vertical-align: top;\n",
       "    }\n",
       "\n",
       "    .dataframe thead th {\n",
       "        text-align: right;\n",
       "    }\n",
       "</style>\n",
       "<table border=\"1\" class=\"dataframe\">\n",
       "  <thead>\n",
       "    <tr style=\"text-align: right;\">\n",
       "      <th></th>\n",
       "      <th>client_id</th>\n",
       "      <th>Province</th>\n",
       "      <th>Village</th>\n",
       "      <th>distance_to_SP</th>\n",
       "    </tr>\n",
       "  </thead>\n",
       "  <tbody>\n",
       "    <tr>\n",
       "      <th>1</th>\n",
       "      <td>304669</td>\n",
       "      <td>Neuquen</td>\n",
       "      <td>NEUQUEN</td>\n",
       "      <td>719</td>\n",
       "    </tr>\n",
       "    <tr>\n",
       "      <th>2</th>\n",
       "      <td>304670</td>\n",
       "      <td>Neuquen</td>\n",
       "      <td>NEUQUEN</td>\n",
       "      <td>719</td>\n",
       "    </tr>\n",
       "    <tr>\n",
       "      <th>0</th>\n",
       "      <td>303280</td>\n",
       "      <td>Neuquen</td>\n",
       "      <td>SENILLOS</td>\n",
       "      <td>0</td>\n",
       "    </tr>\n",
       "  </tbody>\n",
       "</table>\n",
       "</div>"
      ],
      "text/plain": [
       "   client_id Province   Village  distance_to_SP\n",
       "1     304669  Neuquen   NEUQUEN             719\n",
       "2     304670  Neuquen   NEUQUEN             719\n",
       "0     303280  Neuquen  SENILLOS               0"
      ]
     },
     "execution_count": 41,
     "metadata": {},
     "output_type": "execute_result"
    }
   ],
   "source": [
    "# NEUQUEN\n",
    "# I can see that there is something wrong with the distance of this client...\n",
    "selected_columns = ['Province', 'Village', 'client_id', 'distance_to_SP']\n",
    "filtered_df = merged_df.loc[merged_df['Province'] == 'Neuquen', selected_columns].head(100)\n",
    "filtered_grouped_df = filtered_df.groupby(['client_id', 'Province', 'Village']).mean().reset_index()\n",
    "filtered_grouped_df = filtered_grouped_df.sort_values(by='distance_to_SP', ascending=False)\n",
    "filtered_grouped_df"
   ]
  },
  {
   "cell_type": "code",
   "execution_count": 42,
   "id": "e77885a6",
   "metadata": {},
   "outputs": [],
   "source": [
    "client_id_to_replace = 303280\n",
    "neuquen_df = merged_df[merged_df['Province'] == 'Neuquen']\n",
    "replacement_value = neuquen_df['distance_to_SP'].mean()\n",
    "numerical_df.loc[numerical_df['client_id'] == client_id_to_replace, 'distance_to_SP'] = replacement_value"
   ]
  },
  {
   "cell_type": "code",
   "execution_count": 43,
   "id": "8fcb3def",
   "metadata": {},
   "outputs": [
    {
     "data": {
      "text/html": [
       "<div>\n",
       "<style scoped>\n",
       "    .dataframe tbody tr th:only-of-type {\n",
       "        vertical-align: middle;\n",
       "    }\n",
       "\n",
       "    .dataframe tbody tr th {\n",
       "        vertical-align: top;\n",
       "    }\n",
       "\n",
       "    .dataframe thead th {\n",
       "        text-align: right;\n",
       "    }\n",
       "</style>\n",
       "<table border=\"1\" class=\"dataframe\">\n",
       "  <thead>\n",
       "    <tr style=\"text-align: right;\">\n",
       "      <th></th>\n",
       "      <th>client_id</th>\n",
       "      <th>Product_id</th>\n",
       "      <th>Invoice_id</th>\n",
       "      <th>Quantity</th>\n",
       "      <th>Unit.price</th>\n",
       "      <th>Total</th>\n",
       "      <th>Descount amount</th>\n",
       "      <th>% descount</th>\n",
       "      <th>Net amount</th>\n",
       "      <th>distance_to_SP</th>\n",
       "    </tr>\n",
       "  </thead>\n",
       "  <tbody>\n",
       "    <tr>\n",
       "      <th>0</th>\n",
       "      <td>303280</td>\n",
       "      <td>80,067</td>\n",
       "      <td>90,553,370</td>\n",
       "      <td>596</td>\n",
       "      <td>5</td>\n",
       "      <td>2,755</td>\n",
       "      <td>-249</td>\n",
       "      <td>-0</td>\n",
       "      <td>2,507</td>\n",
       "      <td>299</td>\n",
       "    </tr>\n",
       "  </tbody>\n",
       "</table>\n",
       "</div>"
      ],
      "text/plain": [
       "   client_id  Product_id  Invoice_id  Quantity  Unit.price  Total  \\\n",
       "0     303280      80,067  90,553,370       596           5  2,755   \n",
       "\n",
       "   Descount amount  % descount  Net amount  distance_to_SP  \n",
       "0             -249          -0       2,507             299  "
      ]
     },
     "execution_count": 43,
     "metadata": {},
     "output_type": "execute_result"
    }
   ],
   "source": [
    "client_id_to_filter = 303280\n",
    "filtered_df = numerical_df[numerical_df['client_id'] == client_id_to_filter]\n",
    "grouped_df = filtered_df.groupby('client_id').mean().reset_index()\n",
    "grouped_df"
   ]
  },
  {
   "cell_type": "code",
   "execution_count": 44,
   "id": "fd415ff9",
   "metadata": {},
   "outputs": [
    {
     "data": {
      "text/html": [
       "<div>\n",
       "<style scoped>\n",
       "    .dataframe tbody tr th:only-of-type {\n",
       "        vertical-align: middle;\n",
       "    }\n",
       "\n",
       "    .dataframe tbody tr th {\n",
       "        vertical-align: top;\n",
       "    }\n",
       "\n",
       "    .dataframe thead th {\n",
       "        text-align: right;\n",
       "    }\n",
       "</style>\n",
       "<table border=\"1\" class=\"dataframe\">\n",
       "  <thead>\n",
       "    <tr style=\"text-align: right;\">\n",
       "      <th></th>\n",
       "      <th>client_id</th>\n",
       "      <th>Product_id</th>\n",
       "      <th>Invoice_id</th>\n",
       "      <th>Quantity</th>\n",
       "      <th>Unit.price</th>\n",
       "      <th>Total</th>\n",
       "      <th>Descount amount</th>\n",
       "      <th>% descount</th>\n",
       "      <th>Net amount</th>\n",
       "      <th>distance_to_SP</th>\n",
       "    </tr>\n",
       "  </thead>\n",
       "  <tbody>\n",
       "    <tr>\n",
       "      <th>0</th>\n",
       "      <td>303280</td>\n",
       "      <td>80,067</td>\n",
       "      <td>90,553,370</td>\n",
       "      <td>596</td>\n",
       "      <td>5</td>\n",
       "      <td>2,755</td>\n",
       "      <td>-249</td>\n",
       "      <td>-0</td>\n",
       "      <td>2,507</td>\n",
       "      <td>299</td>\n",
       "    </tr>\n",
       "  </tbody>\n",
       "</table>\n",
       "</div>"
      ],
      "text/plain": [
       "   client_id  Product_id  Invoice_id  Quantity  Unit.price  Total  \\\n",
       "0     303280      80,067  90,553,370       596           5  2,755   \n",
       "\n",
       "   Descount amount  % descount  Net amount  distance_to_SP  \n",
       "0             -249          -0       2,507             299  "
      ]
     },
     "execution_count": 44,
     "metadata": {},
     "output_type": "execute_result"
    }
   ],
   "source": [
    "client_id_to_filter = 303280\n",
    "filtered_df = numerical_df[numerical_df['client_id'] == client_id_to_filter]\n",
    "grouped_df = filtered_df.groupby('client_id').mean().reset_index()\n",
    "grouped_df"
   ]
  },
  {
   "cell_type": "code",
   "execution_count": null,
   "id": "0a313a2d",
   "metadata": {},
   "outputs": [],
   "source": []
  },
  {
   "cell_type": "markdown",
   "id": "65f66f88",
   "metadata": {},
   "source": [
    "## Clean data | Cleaning categorical data"
   ]
  },
  {
   "cell_type": "code",
   "execution_count": 45,
   "id": "5986d1c4",
   "metadata": {},
   "outputs": [
    {
     "data": {
      "text/plain": [
       "Index(['Channel', 'Sales_people', 'Invoice_class', 'Shipping_point',\n",
       "       'Type_client', 'client_name', 'Category_desc', 'Segment', 'Product',\n",
       "       'Unit.measur.', 'Payment_condition', 'invoice date', 'Month_v',\n",
       "       'Province', 'Village', 'Sales doc descr.', 'Doc.date', 'Incoterms'],\n",
       "      dtype='object')"
      ]
     },
     "execution_count": 45,
     "metadata": {},
     "output_type": "execute_result"
    }
   ],
   "source": [
    "categorical_df = merged_to_clean_df.select_dtypes(exclude=['number'])\n",
    "categorical_df.columns"
   ]
  },
  {
   "cell_type": "code",
   "execution_count": 46,
   "id": "92841712",
   "metadata": {},
   "outputs": [],
   "source": [
    "merged_df['Unit.price.1'] = pd.to_numeric(merged_df['Unit.price.1'])"
   ]
  },
  {
   "cell_type": "code",
   "execution_count": 47,
   "id": "8da29a57",
   "metadata": {},
   "outputs": [
    {
     "data": {
      "text/plain": [
       "Index(['Province', 'Village', 'Category_desc', 'Payment_condition'], dtype='object')"
      ]
     },
     "execution_count": 47,
     "metadata": {},
     "output_type": "execute_result"
    }
   ],
   "source": [
    "selected_columns = ['Province', 'Village','Category_desc','Payment_condition']\n",
    "categorical_df = categorical_df[selected_columns]\n",
    "categorical_df.columns"
   ]
  },
  {
   "cell_type": "markdown",
   "id": "471cd4f7",
   "metadata": {},
   "source": [
    "### Clean data | Province"
   ]
  },
  {
   "cell_type": "code",
   "execution_count": 48,
   "id": "19e671c6",
   "metadata": {},
   "outputs": [
    {
     "data": {
      "text/plain": [
       "Buenos Aires       4638\n",
       "Entre Rios          345\n",
       "Santa Fé            327\n",
       "Capital Federal     132\n",
       "Rio Negro            93\n",
       "Chaco                70\n",
       "Neuquen              53\n",
       "La Pampa             48\n",
       "Chubut               34\n",
       "Santa Cruz           33\n",
       "Corrientes           15\n",
       "Misiones             12\n",
       "Formosa               1\n",
       "Name: Province, dtype: int64"
      ]
     },
     "execution_count": 48,
     "metadata": {},
     "output_type": "execute_result"
    }
   ],
   "source": [
    "categorical_df['Province'].value_counts()"
   ]
  },
  {
   "cell_type": "markdown",
   "id": "90c0aaf1",
   "metadata": {},
   "source": [
    "### Clean data | Village"
   ]
  },
  {
   "cell_type": "code",
   "execution_count": 49,
   "id": "a06b9a2a",
   "metadata": {},
   "outputs": [
    {
     "data": {
      "text/plain": [
       "SAN MARTIN          416\n",
       "MONTE GRANDE        188\n",
       "MAR DEL PLATA       162\n",
       "MARCOS PAZ          154\n",
       "TIGRE               142\n",
       "                   ... \n",
       "FRANCISCO MADERO      1\n",
       "LIBERTAD              1\n",
       "CORONEL DORREGO       1\n",
       "MOQUEHUA              1\n",
       "ZAVALLA               1\n",
       "Name: Village, Length: 287, dtype: int64"
      ]
     },
     "execution_count": 49,
     "metadata": {},
     "output_type": "execute_result"
    }
   ],
   "source": [
    "categorical_df['Village'].value_counts()"
   ]
  },
  {
   "cell_type": "markdown",
   "id": "e6e44ad8",
   "metadata": {},
   "source": [
    "### Clean data | Category_desc"
   ]
  },
  {
   "cell_type": "code",
   "execution_count": 50,
   "id": "bd06cf3f",
   "metadata": {},
   "outputs": [
    {
     "data": {
      "text/plain": [
       "building materials stores    5801\n",
       "Name: Category_desc, dtype: int64"
      ]
     },
     "execution_count": 50,
     "metadata": {},
     "output_type": "execute_result"
    }
   ],
   "source": [
    "categorical_df['Category_desc'].value_counts()"
   ]
  },
  {
   "cell_type": "markdown",
   "id": "1776774d",
   "metadata": {},
   "source": [
    "### Clean data | Payment_condition"
   ]
  },
  {
   "cell_type": "code",
   "execution_count": 51,
   "id": "e77c568c",
   "metadata": {},
   "outputs": [
    {
     "data": {
      "text/plain": [
       "ZC07    3770\n",
       "ZC10    1183\n",
       "ZC05     722\n",
       "ZC01      69\n",
       "ZC14      57\n",
       "Name: Payment_condition, dtype: int64"
      ]
     },
     "execution_count": 51,
     "metadata": {},
     "output_type": "execute_result"
    }
   ],
   "source": [
    "categorical_df['Payment_condition'].value_counts()"
   ]
  },
  {
   "cell_type": "markdown",
   "id": "f36616aa",
   "metadata": {},
   "source": [
    "# Exploratory Analysis | Numerical"
   ]
  },
  {
   "cell_type": "code",
   "execution_count": 52,
   "id": "a8d30e10",
   "metadata": {},
   "outputs": [
    {
     "data": {
      "text/html": [
       "<div>\n",
       "<style scoped>\n",
       "    .dataframe tbody tr th:only-of-type {\n",
       "        vertical-align: middle;\n",
       "    }\n",
       "\n",
       "    .dataframe tbody tr th {\n",
       "        vertical-align: top;\n",
       "    }\n",
       "\n",
       "    .dataframe thead th {\n",
       "        text-align: right;\n",
       "    }\n",
       "</style>\n",
       "<table border=\"1\" class=\"dataframe\">\n",
       "  <thead>\n",
       "    <tr style=\"text-align: right;\">\n",
       "      <th></th>\n",
       "      <th>client_id</th>\n",
       "      <th>Product_id</th>\n",
       "      <th>Invoice_id</th>\n",
       "      <th>Quantity</th>\n",
       "      <th>Unit.price</th>\n",
       "      <th>Total</th>\n",
       "      <th>Descount amount</th>\n",
       "      <th>% descount</th>\n",
       "      <th>Net amount</th>\n",
       "      <th>distance_to_SP</th>\n",
       "    </tr>\n",
       "  </thead>\n",
       "  <tbody>\n",
       "    <tr>\n",
       "      <th>0</th>\n",
       "      <td>301264</td>\n",
       "      <td>80067</td>\n",
       "      <td>90521561</td>\n",
       "      <td>640</td>\n",
       "      <td>4</td>\n",
       "      <td>2,736</td>\n",
       "      <td>-247</td>\n",
       "      <td>-0</td>\n",
       "      <td>2,489</td>\n",
       "      <td>261</td>\n",
       "    </tr>\n",
       "    <tr>\n",
       "      <th>1</th>\n",
       "      <td>301502</td>\n",
       "      <td>80067</td>\n",
       "      <td>90521570</td>\n",
       "      <td>200</td>\n",
       "      <td>4</td>\n",
       "      <td>855</td>\n",
       "      <td>-127</td>\n",
       "      <td>-0</td>\n",
       "      <td>728</td>\n",
       "      <td>265</td>\n",
       "    </tr>\n",
       "    <tr>\n",
       "      <th>2</th>\n",
       "      <td>301502</td>\n",
       "      <td>80067</td>\n",
       "      <td>90521570</td>\n",
       "      <td>600</td>\n",
       "      <td>4</td>\n",
       "      <td>2,565</td>\n",
       "      <td>-381</td>\n",
       "      <td>-0</td>\n",
       "      <td>2,184</td>\n",
       "      <td>265</td>\n",
       "    </tr>\n",
       "    <tr>\n",
       "      <th>3</th>\n",
       "      <td>301525</td>\n",
       "      <td>80067</td>\n",
       "      <td>90521573</td>\n",
       "      <td>640</td>\n",
       "      <td>4</td>\n",
       "      <td>2,736</td>\n",
       "      <td>-247</td>\n",
       "      <td>-0</td>\n",
       "      <td>2,489</td>\n",
       "      <td>0</td>\n",
       "    </tr>\n",
       "    <tr>\n",
       "      <th>4</th>\n",
       "      <td>301525</td>\n",
       "      <td>80067</td>\n",
       "      <td>90521573</td>\n",
       "      <td>640</td>\n",
       "      <td>4</td>\n",
       "      <td>2,736</td>\n",
       "      <td>-247</td>\n",
       "      <td>-0</td>\n",
       "      <td>2,489</td>\n",
       "      <td>0</td>\n",
       "    </tr>\n",
       "  </tbody>\n",
       "</table>\n",
       "</div>"
      ],
      "text/plain": [
       "   client_id  Product_id  Invoice_id  Quantity  Unit.price  Total  \\\n",
       "0     301264       80067    90521561       640           4  2,736   \n",
       "1     301502       80067    90521570       200           4    855   \n",
       "2     301502       80067    90521570       600           4  2,565   \n",
       "3     301525       80067    90521573       640           4  2,736   \n",
       "4     301525       80067    90521573       640           4  2,736   \n",
       "\n",
       "   Descount amount  % descount  Net amount  distance_to_SP  \n",
       "0             -247          -0       2,489             261  \n",
       "1             -127          -0         728             265  \n",
       "2             -381          -0       2,184             265  \n",
       "3             -247          -0       2,489               0  \n",
       "4             -247          -0       2,489               0  "
      ]
     },
     "execution_count": 52,
     "metadata": {},
     "output_type": "execute_result"
    }
   ],
   "source": [
    "numerical_df.head()"
   ]
  },
  {
   "cell_type": "code",
   "execution_count": 53,
   "id": "c492dc01",
   "metadata": {},
   "outputs": [
    {
     "data": {
      "text/html": [
       "<div>\n",
       "<style scoped>\n",
       "    .dataframe tbody tr th:only-of-type {\n",
       "        vertical-align: middle;\n",
       "    }\n",
       "\n",
       "    .dataframe tbody tr th {\n",
       "        vertical-align: top;\n",
       "    }\n",
       "\n",
       "    .dataframe thead th {\n",
       "        text-align: right;\n",
       "    }\n",
       "</style>\n",
       "<table border=\"1\" class=\"dataframe\">\n",
       "  <thead>\n",
       "    <tr style=\"text-align: right;\">\n",
       "      <th></th>\n",
       "      <th>Province</th>\n",
       "      <th>Village</th>\n",
       "      <th>Category_desc</th>\n",
       "      <th>Payment_condition</th>\n",
       "    </tr>\n",
       "  </thead>\n",
       "  <tbody>\n",
       "    <tr>\n",
       "      <th>0</th>\n",
       "      <td>Buenos Aires</td>\n",
       "      <td>MERCEDES</td>\n",
       "      <td>building materials stores</td>\n",
       "      <td>ZC07</td>\n",
       "    </tr>\n",
       "    <tr>\n",
       "      <th>1</th>\n",
       "      <td>Buenos Aires</td>\n",
       "      <td>MARCOS PAZ</td>\n",
       "      <td>building materials stores</td>\n",
       "      <td>ZC10</td>\n",
       "    </tr>\n",
       "    <tr>\n",
       "      <th>2</th>\n",
       "      <td>Buenos Aires</td>\n",
       "      <td>MARCOS PAZ</td>\n",
       "      <td>building materials stores</td>\n",
       "      <td>ZC10</td>\n",
       "    </tr>\n",
       "    <tr>\n",
       "      <th>3</th>\n",
       "      <td>Buenos Aires</td>\n",
       "      <td>OLAVARRIA</td>\n",
       "      <td>building materials stores</td>\n",
       "      <td>ZC10</td>\n",
       "    </tr>\n",
       "    <tr>\n",
       "      <th>4</th>\n",
       "      <td>Buenos Aires</td>\n",
       "      <td>OLAVARRIA</td>\n",
       "      <td>building materials stores</td>\n",
       "      <td>ZC10</td>\n",
       "    </tr>\n",
       "  </tbody>\n",
       "</table>\n",
       "</div>"
      ],
      "text/plain": [
       "       Province     Village              Category_desc Payment_condition\n",
       "0  Buenos Aires    MERCEDES  building materials stores              ZC07\n",
       "1  Buenos Aires  MARCOS PAZ  building materials stores              ZC10\n",
       "2  Buenos Aires  MARCOS PAZ  building materials stores              ZC10\n",
       "3  Buenos Aires   OLAVARRIA  building materials stores              ZC10\n",
       "4  Buenos Aires   OLAVARRIA  building materials stores              ZC10"
      ]
     },
     "execution_count": 53,
     "metadata": {},
     "output_type": "execute_result"
    }
   ],
   "source": [
    "categorical_df.head()"
   ]
  },
  {
   "cell_type": "code",
   "execution_count": 54,
   "id": "a45285ad",
   "metadata": {},
   "outputs": [],
   "source": [
    "concatenated_df = pd.concat([numerical_df, categorical_df], axis=1)"
   ]
  },
  {
   "cell_type": "code",
   "execution_count": 55,
   "id": "78dfa9ea",
   "metadata": {},
   "outputs": [
    {
     "data": {
      "text/plain": [
       "Index(['client_id', 'Product_id', 'Invoice_id', 'Quantity', 'Unit.price',\n",
       "       'Total', 'Descount amount', '% descount', 'Net amount',\n",
       "       'distance_to_SP', 'Province', 'Village', 'Category_desc',\n",
       "       'Payment_condition'],\n",
       "      dtype='object')"
      ]
     },
     "execution_count": 55,
     "metadata": {},
     "output_type": "execute_result"
    }
   ],
   "source": [
    "concatenated_df.columns"
   ]
  },
  {
   "cell_type": "code",
   "execution_count": null,
   "id": "c9fc98a8",
   "metadata": {},
   "outputs": [],
   "source": []
  },
  {
   "cell_type": "code",
   "execution_count": null,
   "id": "6efb98ba",
   "metadata": {},
   "outputs": [],
   "source": []
  },
  {
   "cell_type": "markdown",
   "id": "5297b04b",
   "metadata": {},
   "source": [
    "## Exploratory Analysis | % descount"
   ]
  },
  {
   "cell_type": "code",
   "execution_count": 56,
   "id": "12c842f0",
   "metadata": {},
   "outputs": [
    {
     "data": {
      "image/png": "[encoded data removed]",
      "text/plain": [
       "<Figure size 864x576 with 1 Axes>"
      ]
     },
     "metadata": {
      "needs_background": "light"
     },
     "output_type": "display_data"
    }
   ],
   "source": [
    "# I can see that most of the descounts are close to 0.10\n",
    "numerical_df['% descount'] = pd.to_numeric(merged_df['% descount'], errors='coerce')\n",
    "plt.figure(figsize=(12, 8))  # Adjust the values (width, height) as needed\n",
    "sns.histplot(numerical_df['% descount'], kde=True)\n",
    "plt.xlabel('% Descount')\n",
    "plt.ylabel('Frequency')\n",
    "plt.title('Histogram of % Descount')\n",
    "plt.show()"
   ]
  },
  {
   "cell_type": "code",
   "execution_count": 57,
   "id": "9ced93c2",
   "metadata": {},
   "outputs": [
    {
     "data": {
      "image/png": "[encoded data removed]",
      "text/plain": [
       "<Figure size 864x576 with 1 Axes>"
      ]
     },
     "metadata": {
      "needs_background": "light"
     },
     "output_type": "display_data"
    }
   ],
   "source": [
    "import seaborn as sns\n",
    "import matplotlib.pyplot as plt\n",
    "\n",
    "numerical_df['% descount'] = pd.to_numeric(numerical_df['% descount'], errors='coerce')\n",
    "plt.figure(figsize=(12, 8))\n",
    "\n",
    "# Use sns.regplot to create a scatter plot with a regression line\n",
    "sns.regplot(x=numerical_df['Quantity'], y=numerical_df['% descount'], scatter_kws={'s': 20})  # 's' adjusts marker size\n",
    "plt.xlabel('Quantities')\n",
    "plt.ylabel('% Descount')\n",
    "plt.title('Scatter Plot of % Descount per Quantity with Regression Line')\n",
    "plt.show()"
   ]
  },
  {
   "cell_type": "markdown",
   "id": "b8057cee",
   "metadata": {},
   "source": [
    "## Exploratory Analysis | Quantities"
   ]
  },
  {
   "cell_type": "code",
   "execution_count": 58,
   "id": "7464af92",
   "metadata": {},
   "outputs": [
    {
     "data": {
      "image/png": "[encoded data removed]",
      "text/plain": [
       "<Figure size 864x576 with 1 Axes>"
      ]
     },
     "metadata": {
      "needs_background": "light"
     },
     "output_type": "display_data"
    }
   ],
   "source": [
    "numerical_df['Quantity'] = pd.to_numeric(merged_df['Quantity'], errors='coerce')\n",
    "plt.figure(figsize=(12, 8))  # Adjust the values (width, height) as needed\n",
    "sns.histplot(numerical_df['Quantity'], kde=True)\n",
    "plt.xlabel('Quantity')\n",
    "plt.ylabel('Frequency')\n",
    "plt.title('Histogram of quantities')\n",
    "plt.show()"
   ]
  },
  {
   "cell_type": "markdown",
   "id": "5c5fa976",
   "metadata": {},
   "source": [
    "### Exploratory Analysis | Quantities | Clients"
   ]
  },
  {
   "cell_type": "code",
   "execution_count": 59,
   "id": "ff3f923f",
   "metadata": {},
   "outputs": [
    {
     "data": {
      "text/plain": [
       "Index(['client_id', 'Product_id', 'Invoice_id', 'Quantity', 'Unit.price',\n",
       "       'Total', 'Descount amount', '% descount', 'Net amount',\n",
       "       'distance_to_SP', 'Province', 'Village', 'Category_desc',\n",
       "       'Payment_condition'],\n",
       "      dtype='object')"
      ]
     },
     "execution_count": 59,
     "metadata": {},
     "output_type": "execute_result"
    }
   ],
   "source": [
    "concatenated_df.columns"
   ]
  },
  {
   "cell_type": "code",
   "execution_count": 60,
   "id": "ee6bc118",
   "metadata": {},
   "outputs": [
    {
     "data": {
      "text/html": [
       "<div>\n",
       "<style scoped>\n",
       "    .dataframe tbody tr th:only-of-type {\n",
       "        vertical-align: middle;\n",
       "    }\n",
       "\n",
       "    .dataframe tbody tr th {\n",
       "        vertical-align: top;\n",
       "    }\n",
       "\n",
       "    .dataframe thead th {\n",
       "        text-align: right;\n",
       "    }\n",
       "</style>\n",
       "<table border=\"1\" class=\"dataframe\">\n",
       "  <thead>\n",
       "    <tr style=\"text-align: right;\">\n",
       "      <th></th>\n",
       "      <th>client_id</th>\n",
       "      <th>Quantity</th>\n",
       "    </tr>\n",
       "  </thead>\n",
       "  <tbody>\n",
       "    <tr>\n",
       "      <th>402</th>\n",
       "      <td>303647</td>\n",
       "      <td>235,560</td>\n",
       "    </tr>\n",
       "    <tr>\n",
       "      <th>75</th>\n",
       "      <td>301502</td>\n",
       "      <td>89,160</td>\n",
       "    </tr>\n",
       "    <tr>\n",
       "      <th>93</th>\n",
       "      <td>301611</td>\n",
       "      <td>85,400</td>\n",
       "    </tr>\n",
       "    <tr>\n",
       "      <th>144</th>\n",
       "      <td>301846</td>\n",
       "      <td>72,440</td>\n",
       "    </tr>\n",
       "    <tr>\n",
       "      <th>413</th>\n",
       "      <td>303903</td>\n",
       "      <td>67,240</td>\n",
       "    </tr>\n",
       "  </tbody>\n",
       "</table>\n",
       "</div>"
      ],
      "text/plain": [
       "     client_id  Quantity\n",
       "402     303647   235,560\n",
       "75      301502    89,160\n",
       "93      301611    85,400\n",
       "144     301846    72,440\n",
       "413     303903    67,240"
      ]
     },
     "execution_count": 60,
     "metadata": {},
     "output_type": "execute_result"
    }
   ],
   "source": [
    "client_column = 'client_id' \n",
    "Quantity_client = concatenated_df.groupby(client_column)['Quantity'].sum().reset_index()\n",
    "Quantity_client = Quantity_client.sort_values(by='Quantity', ascending=False)\n",
    "Quantity_client.head(5)"
   ]
  },
  {
   "cell_type": "code",
   "execution_count": 61,
   "id": "06e97e06",
   "metadata": {},
   "outputs": [
    {
     "data": {
      "image/png": "[encoded data removed]",
      "text/plain": [
       "<Figure size 864x576 with 1 Axes>"
      ]
     },
     "metadata": {
      "needs_background": "light"
     },
     "output_type": "display_data"
    }
   ],
   "source": [
    "clients_data = Quantity_client.copy()\n",
    "clients_data['Quantity'] = pd.to_numeric(clients_data['Quantity'], errors='coerce')\n",
    "clients_data = clients_data.sort_values(by='Quantity', ascending=False)\n",
    "top_30_clients = clients_data.head(30)  # Uncomment this line to calculate top_30_clients\n",
    "plt.figure(figsize=(12, 8))\n",
    "sns.barplot(x=top_30_clients[client_column], y=top_30_clients['Quantity'], palette='viridis')\n",
    "plt.xlabel('Client')\n",
    "plt.ylabel('Total Sales Quantity')\n",
    "plt.title('Top 30 Clients - Distribution of Sales by Client (Sorted Descending)')\n",
    "plt.xticks(rotation=45, ha='right') \n",
    "plt.show()"
   ]
  },
  {
   "cell_type": "code",
   "execution_count": 62,
   "id": "abcf1ff0",
   "metadata": {},
   "outputs": [
    {
     "data": {
      "text/html": [
       "<div>\n",
       "<style scoped>\n",
       "    .dataframe tbody tr th:only-of-type {\n",
       "        vertical-align: middle;\n",
       "    }\n",
       "\n",
       "    .dataframe tbody tr th {\n",
       "        vertical-align: top;\n",
       "    }\n",
       "\n",
       "    .dataframe thead th {\n",
       "        text-align: right;\n",
       "    }\n",
       "</style>\n",
       "<table border=\"1\" class=\"dataframe\">\n",
       "  <thead>\n",
       "    <tr style=\"text-align: right;\">\n",
       "      <th></th>\n",
       "      <th>Channel_id</th>\n",
       "      <th>Channel</th>\n",
       "      <th>Sales_people_id</th>\n",
       "      <th>Sales_people</th>\n",
       "      <th>Invoice_class</th>\n",
       "      <th>Shipping point_id</th>\n",
       "      <th>Shipping_point</th>\n",
       "      <th>Type_client</th>\n",
       "      <th>client_id</th>\n",
       "      <th>client_name</th>\n",
       "      <th>...</th>\n",
       "      <th>Sales document</th>\n",
       "      <th>Product.1</th>\n",
       "      <th>Sales doc descr.</th>\n",
       "      <th>Doc.date</th>\n",
       "      <th>Sales doc class</th>\n",
       "      <th>Incoterms</th>\n",
       "      <th>postal code</th>\n",
       "      <th>latitude</th>\n",
       "      <th>longitude</th>\n",
       "      <th>distance_to_SP</th>\n",
       "    </tr>\n",
       "  </thead>\n",
       "  <tbody>\n",
       "    <tr>\n",
       "      <th>35</th>\n",
       "      <td>2</td>\n",
       "      <td>Metropolitana Area</td>\n",
       "      <td>2383</td>\n",
       "      <td>Prieto</td>\n",
       "      <td>ZF21</td>\n",
       "      <td>AE01</td>\n",
       "      <td>Olavarría</td>\n",
       "      <td>Clients</td>\n",
       "      <td>303647</td>\n",
       "      <td>EL MAYORISTA DE LA 8 S.R.L.</td>\n",
       "      <td>...</td>\n",
       "      <td>526508</td>\n",
       "      <td>80067</td>\n",
       "      <td>Standard</td>\n",
       "      <td>2020-07-28</td>\n",
       "      <td>ZP21</td>\n",
       "      <td>FOB</td>\n",
       "      <td>1,650</td>\n",
       "      <td>-35</td>\n",
       "      <td>-59</td>\n",
       "      <td>305</td>\n",
       "    </tr>\n",
       "    <tr>\n",
       "      <th>36</th>\n",
       "      <td>2</td>\n",
       "      <td>Metropolitana Area</td>\n",
       "      <td>2383</td>\n",
       "      <td>Prieto</td>\n",
       "      <td>ZF21</td>\n",
       "      <td>AE01</td>\n",
       "      <td>Olavarría</td>\n",
       "      <td>Clients</td>\n",
       "      <td>303647</td>\n",
       "      <td>EL MAYORISTA DE LA 8 S.R.L.</td>\n",
       "      <td>...</td>\n",
       "      <td>528767</td>\n",
       "      <td>80067</td>\n",
       "      <td>Standard</td>\n",
       "      <td>2020-07-31</td>\n",
       "      <td>ZP21</td>\n",
       "      <td>FOB</td>\n",
       "      <td>1,650</td>\n",
       "      <td>-35</td>\n",
       "      <td>-59</td>\n",
       "      <td>305</td>\n",
       "    </tr>\n",
       "    <tr>\n",
       "      <th>90</th>\n",
       "      <td>2</td>\n",
       "      <td>Metropolitana Area</td>\n",
       "      <td>2383</td>\n",
       "      <td>Prieto</td>\n",
       "      <td>ZF21</td>\n",
       "      <td>AE01</td>\n",
       "      <td>Olavarría</td>\n",
       "      <td>Clients</td>\n",
       "      <td>303647</td>\n",
       "      <td>EL MAYORISTA DE LA 8 S.R.L.</td>\n",
       "      <td>...</td>\n",
       "      <td>527875</td>\n",
       "      <td>80067</td>\n",
       "      <td>Standard</td>\n",
       "      <td>2020-07-30</td>\n",
       "      <td>ZP21</td>\n",
       "      <td>FOB</td>\n",
       "      <td>1,650</td>\n",
       "      <td>-35</td>\n",
       "      <td>-59</td>\n",
       "      <td>305</td>\n",
       "    </tr>\n",
       "  </tbody>\n",
       "</table>\n",
       "<p>3 rows × 59 columns</p>\n",
       "</div>"
      ],
      "text/plain": [
       "    Channel_id             Channel  Sales_people_id Sales_people  \\\n",
       "35           2  Metropolitana Area             2383       Prieto   \n",
       "36           2  Metropolitana Area             2383       Prieto   \n",
       "90           2  Metropolitana Area             2383       Prieto   \n",
       "\n",
       "   Invoice_class Shipping point_id Shipping_point Type_client  client_id  \\\n",
       "35          ZF21              AE01      Olavarría     Clients     303647   \n",
       "36          ZF21              AE01      Olavarría     Clients     303647   \n",
       "90          ZF21              AE01      Olavarría     Clients     303647   \n",
       "\n",
       "                    client_name  ...  Sales document  Product.1  \\\n",
       "35  EL MAYORISTA DE LA 8 S.R.L.  ...          526508      80067   \n",
       "36  EL MAYORISTA DE LA 8 S.R.L.  ...          528767      80067   \n",
       "90  EL MAYORISTA DE LA 8 S.R.L.  ...          527875      80067   \n",
       "\n",
       "   Sales doc descr.   Doc.date Sales doc class  Incoterms postal code  \\\n",
       "35         Standard 2020-07-28            ZP21        FOB       1,650   \n",
       "36         Standard 2020-07-31            ZP21        FOB       1,650   \n",
       "90         Standard 2020-07-30            ZP21        FOB       1,650   \n",
       "\n",
       "    latitude longitude distance_to_SP  \n",
       "35       -35       -59            305  \n",
       "36       -35       -59            305  \n",
       "90       -35       -59            305  \n",
       "\n",
       "[3 rows x 59 columns]"
      ]
     },
     "execution_count": 62,
     "metadata": {},
     "output_type": "execute_result"
    }
   ],
   "source": [
    "client_top=merged_df[concatenated_df['client_id']==303647]\n",
    "client_top.head(3)"
   ]
  },
  {
   "cell_type": "code",
   "execution_count": null,
   "id": "bc4e891b",
   "metadata": {},
   "outputs": [],
   "source": []
  },
  {
   "cell_type": "markdown",
   "id": "6b772566",
   "metadata": {},
   "source": [
    "### Exploratory Analysis | Quantities | Net price"
   ]
  },
  {
   "cell_type": "code",
   "execution_count": 63,
   "id": "0c3dc607",
   "metadata": {},
   "outputs": [
    {
     "data": {
      "text/plain": [
       "Index(['client_id', 'Product_id', 'Invoice_id', 'Quantity', 'Unit.price',\n",
       "       'Total', 'Descount amount', '% descount', 'Net amount',\n",
       "       'distance_to_SP', 'Province', 'Village', 'Category_desc',\n",
       "       'Payment_condition'],\n",
       "      dtype='object')"
      ]
     },
     "execution_count": 63,
     "metadata": {},
     "output_type": "execute_result"
    }
   ],
   "source": [
    "concatenated_df.columns"
   ]
  },
  {
   "cell_type": "code",
   "execution_count": 64,
   "id": "619eb5f0",
   "metadata": {},
   "outputs": [
    {
     "data": {
      "text/html": [
       "<div>\n",
       "<style scoped>\n",
       "    .dataframe tbody tr th:only-of-type {\n",
       "        vertical-align: middle;\n",
       "    }\n",
       "\n",
       "    .dataframe tbody tr th {\n",
       "        vertical-align: top;\n",
       "    }\n",
       "\n",
       "    .dataframe thead th {\n",
       "        text-align: right;\n",
       "    }\n",
       "</style>\n",
       "<table border=\"1\" class=\"dataframe\">\n",
       "  <thead>\n",
       "    <tr style=\"text-align: right;\">\n",
       "      <th></th>\n",
       "      <th>Net amount</th>\n",
       "      <th>Quantity</th>\n",
       "      <th>distance_to_SP</th>\n",
       "      <th>Net Price</th>\n",
       "    </tr>\n",
       "    <tr>\n",
       "      <th>Province</th>\n",
       "      <th></th>\n",
       "      <th></th>\n",
       "      <th></th>\n",
       "      <th></th>\n",
       "    </tr>\n",
       "  </thead>\n",
       "  <tbody>\n",
       "    <tr>\n",
       "      <th>Santa Cruz</th>\n",
       "      <td>81,758</td>\n",
       "      <td>19,800</td>\n",
       "      <td>1,373</td>\n",
       "      <td>4</td>\n",
       "    </tr>\n",
       "    <tr>\n",
       "      <th>Formosa</th>\n",
       "      <td>2,288</td>\n",
       "      <td>600</td>\n",
       "      <td>1,250</td>\n",
       "      <td>4</td>\n",
       "    </tr>\n",
       "    <tr>\n",
       "      <th>Misiones</th>\n",
       "      <td>21,346</td>\n",
       "      <td>5,720</td>\n",
       "      <td>1,167</td>\n",
       "      <td>4</td>\n",
       "    </tr>\n",
       "    <tr>\n",
       "      <th>Chaco</th>\n",
       "      <td>134,866</td>\n",
       "      <td>38,280</td>\n",
       "      <td>1,045</td>\n",
       "      <td>4</td>\n",
       "    </tr>\n",
       "    <tr>\n",
       "      <th>Corrientes</th>\n",
       "      <td>27,532</td>\n",
       "      <td>7,360</td>\n",
       "      <td>868</td>\n",
       "      <td>4</td>\n",
       "    </tr>\n",
       "    <tr>\n",
       "      <th>Chubut</th>\n",
       "      <td>59,666</td>\n",
       "      <td>14,760</td>\n",
       "      <td>818</td>\n",
       "      <td>4</td>\n",
       "    </tr>\n",
       "    <tr>\n",
       "      <th>Entre Rios</th>\n",
       "      <td>669,185</td>\n",
       "      <td>190,560</td>\n",
       "      <td>631</td>\n",
       "      <td>4</td>\n",
       "    </tr>\n",
       "    <tr>\n",
       "      <th>Rio Negro</th>\n",
       "      <td>202,066</td>\n",
       "      <td>48,400</td>\n",
       "      <td>591</td>\n",
       "      <td>4</td>\n",
       "    </tr>\n",
       "    <tr>\n",
       "      <th>Neuquen</th>\n",
       "      <td>129,936</td>\n",
       "      <td>31,120</td>\n",
       "      <td>473</td>\n",
       "      <td>4</td>\n",
       "    </tr>\n",
       "    <tr>\n",
       "      <th>Santa Fé</th>\n",
       "      <td>668,254</td>\n",
       "      <td>175,520</td>\n",
       "      <td>423</td>\n",
       "      <td>4</td>\n",
       "    </tr>\n",
       "    <tr>\n",
       "      <th>La Pampa</th>\n",
       "      <td>99,800</td>\n",
       "      <td>23,800</td>\n",
       "      <td>354</td>\n",
       "      <td>4</td>\n",
       "    </tr>\n",
       "    <tr>\n",
       "      <th>Capital Federal</th>\n",
       "      <td>296,586</td>\n",
       "      <td>72,360</td>\n",
       "      <td>312</td>\n",
       "      <td>4</td>\n",
       "    </tr>\n",
       "    <tr>\n",
       "      <th>Buenos Aires</th>\n",
       "      <td>10,064,194</td>\n",
       "      <td>2,448,600</td>\n",
       "      <td>259</td>\n",
       "      <td>4</td>\n",
       "    </tr>\n",
       "  </tbody>\n",
       "</table>\n",
       "</div>"
      ],
      "text/plain": [
       "                 Net amount  Quantity  distance_to_SP  Net Price\n",
       "Province                                                        \n",
       "Santa Cruz           81,758    19,800           1,373          4\n",
       "Formosa               2,288       600           1,250          4\n",
       "Misiones             21,346     5,720           1,167          4\n",
       "Chaco               134,866    38,280           1,045          4\n",
       "Corrientes           27,532     7,360             868          4\n",
       "Chubut               59,666    14,760             818          4\n",
       "Entre Rios          669,185   190,560             631          4\n",
       "Rio Negro           202,066    48,400             591          4\n",
       "Neuquen             129,936    31,120             473          4\n",
       "Santa Fé            668,254   175,520             423          4\n",
       "La Pampa             99,800    23,800             354          4\n",
       "Capital Federal     296,586    72,360             312          4\n",
       "Buenos Aires     10,064,194 2,448,600             259          4"
      ]
     },
     "execution_count": 64,
     "metadata": {},
     "output_type": "execute_result"
    }
   ],
   "source": [
    "Net_price = concatenated_df.groupby('Province').agg({'Net amount': 'sum', 'Quantity': 'sum', 'distance_to_SP': 'mean'})\n",
    "Net_price['Net Price'] = Net_price['Net amount'] / Net_price['Quantity']\n",
    "Net_price = Net_price.sort_values(by='distance_to_SP', ascending=False)\n",
    "Net_price"
   ]
  },
  {
   "cell_type": "code",
   "execution_count": 65,
   "id": "a5b7290c",
   "metadata": {},
   "outputs": [
    {
     "data": {
      "text/html": [
       "<div>\n",
       "<style scoped>\n",
       "    .dataframe tbody tr th:only-of-type {\n",
       "        vertical-align: middle;\n",
       "    }\n",
       "\n",
       "    .dataframe tbody tr th {\n",
       "        vertical-align: top;\n",
       "    }\n",
       "\n",
       "    .dataframe thead th {\n",
       "        text-align: right;\n",
       "    }\n",
       "</style>\n",
       "<table border=\"1\" class=\"dataframe\">\n",
       "  <thead>\n",
       "    <tr style=\"text-align: right;\">\n",
       "      <th></th>\n",
       "      <th>Net amount</th>\n",
       "      <th>Quantity</th>\n",
       "      <th>distance_to_SP</th>\n",
       "      <th>Net Price</th>\n",
       "    </tr>\n",
       "    <tr>\n",
       "      <th>Province</th>\n",
       "      <th></th>\n",
       "      <th></th>\n",
       "      <th></th>\n",
       "      <th></th>\n",
       "    </tr>\n",
       "  </thead>\n",
       "  <tbody>\n",
       "    <tr>\n",
       "      <th>Buenos Aires</th>\n",
       "      <td>10,064,194</td>\n",
       "      <td>2,448,600</td>\n",
       "      <td>259</td>\n",
       "      <td>4</td>\n",
       "    </tr>\n",
       "    <tr>\n",
       "      <th>Entre Rios</th>\n",
       "      <td>669,185</td>\n",
       "      <td>190,560</td>\n",
       "      <td>631</td>\n",
       "      <td>4</td>\n",
       "    </tr>\n",
       "    <tr>\n",
       "      <th>Santa Fé</th>\n",
       "      <td>668,254</td>\n",
       "      <td>175,520</td>\n",
       "      <td>423</td>\n",
       "      <td>4</td>\n",
       "    </tr>\n",
       "    <tr>\n",
       "      <th>Capital Federal</th>\n",
       "      <td>296,586</td>\n",
       "      <td>72,360</td>\n",
       "      <td>312</td>\n",
       "      <td>4</td>\n",
       "    </tr>\n",
       "    <tr>\n",
       "      <th>Rio Negro</th>\n",
       "      <td>202,066</td>\n",
       "      <td>48,400</td>\n",
       "      <td>591</td>\n",
       "      <td>4</td>\n",
       "    </tr>\n",
       "    <tr>\n",
       "      <th>Chaco</th>\n",
       "      <td>134,866</td>\n",
       "      <td>38,280</td>\n",
       "      <td>1,045</td>\n",
       "      <td>4</td>\n",
       "    </tr>\n",
       "    <tr>\n",
       "      <th>Neuquen</th>\n",
       "      <td>129,936</td>\n",
       "      <td>31,120</td>\n",
       "      <td>473</td>\n",
       "      <td>4</td>\n",
       "    </tr>\n",
       "    <tr>\n",
       "      <th>La Pampa</th>\n",
       "      <td>99,800</td>\n",
       "      <td>23,800</td>\n",
       "      <td>354</td>\n",
       "      <td>4</td>\n",
       "    </tr>\n",
       "    <tr>\n",
       "      <th>Santa Cruz</th>\n",
       "      <td>81,758</td>\n",
       "      <td>19,800</td>\n",
       "      <td>1,373</td>\n",
       "      <td>4</td>\n",
       "    </tr>\n",
       "    <tr>\n",
       "      <th>Chubut</th>\n",
       "      <td>59,666</td>\n",
       "      <td>14,760</td>\n",
       "      <td>818</td>\n",
       "      <td>4</td>\n",
       "    </tr>\n",
       "    <tr>\n",
       "      <th>Corrientes</th>\n",
       "      <td>27,532</td>\n",
       "      <td>7,360</td>\n",
       "      <td>868</td>\n",
       "      <td>4</td>\n",
       "    </tr>\n",
       "    <tr>\n",
       "      <th>Misiones</th>\n",
       "      <td>21,346</td>\n",
       "      <td>5,720</td>\n",
       "      <td>1,167</td>\n",
       "      <td>4</td>\n",
       "    </tr>\n",
       "    <tr>\n",
       "      <th>Formosa</th>\n",
       "      <td>2,288</td>\n",
       "      <td>600</td>\n",
       "      <td>1,250</td>\n",
       "      <td>4</td>\n",
       "    </tr>\n",
       "  </tbody>\n",
       "</table>\n",
       "</div>"
      ],
      "text/plain": [
       "                 Net amount  Quantity  distance_to_SP  Net Price\n",
       "Province                                                        \n",
       "Buenos Aires     10,064,194 2,448,600             259          4\n",
       "Entre Rios          669,185   190,560             631          4\n",
       "Santa Fé            668,254   175,520             423          4\n",
       "Capital Federal     296,586    72,360             312          4\n",
       "Rio Negro           202,066    48,400             591          4\n",
       "Chaco               134,866    38,280           1,045          4\n",
       "Neuquen             129,936    31,120             473          4\n",
       "La Pampa             99,800    23,800             354          4\n",
       "Santa Cruz           81,758    19,800           1,373          4\n",
       "Chubut               59,666    14,760             818          4\n",
       "Corrientes           27,532     7,360             868          4\n",
       "Misiones             21,346     5,720           1,167          4\n",
       "Formosa               2,288       600           1,250          4"
      ]
     },
     "execution_count": 65,
     "metadata": {},
     "output_type": "execute_result"
    }
   ],
   "source": [
    "Net_priceC = concatenated_df.groupby('Province').agg({'Net amount': 'sum', 'Quantity': 'sum', 'distance_to_SP': 'mean','% descount': 'mean'})\n",
    "Net_priceC['Descounted'] = Net_price['Net amount'] / Net_price['Quantity']\n",
    "Net_priceC = Net_price.sort_values(by='Quantity', ascending=False)\n",
    "Net_priceC"
   ]
  },
  {
   "cell_type": "code",
   "execution_count": 66,
   "id": "a349b934",
   "metadata": {},
   "outputs": [
    {
     "data": {
      "image/png": "[encoded data removed]",
      "text/plain": [
       "<Figure size 864x576 with 1 Axes>"
      ]
     },
     "metadata": {
      "needs_background": "light"
     },
     "output_type": "display_data"
    }
   ],
   "source": [
    "import matplotlib.pyplot as plt\n",
    "import seaborn as sns\n",
    "\n",
    "plt.figure(figsize=(12, 8))\n",
    "sns.barplot(x=Net_price.index, y=Net_price['Net Price'], palette='viridis')\n",
    "plt.xlabel('Province')\n",
    "plt.ylabel('Net Price')\n",
    "plt.title('Net Price by Province')\n",
    "plt.xticks(rotation=45, ha='right') \n",
    "plt.show()"
   ]
  },
  {
   "cell_type": "code",
   "execution_count": null,
   "id": "2a471398",
   "metadata": {},
   "outputs": [],
   "source": []
  },
  {
   "cell_type": "markdown",
   "id": "4005b52a",
   "metadata": {},
   "source": [
    "## Exploratory Analysis | Distance to SP"
   ]
  },
  {
   "cell_type": "code",
   "execution_count": 67,
   "id": "7fb3c13b",
   "metadata": {},
   "outputs": [
    {
     "data": {
      "text/plain": [
       "count   5,801\n",
       "mean      323\n",
       "std       191\n",
       "min         0\n",
       "25%       265\n",
       "50%       295\n",
       "75%       312\n",
       "max     1,759\n",
       "Name: distance_to_SP, dtype: float64"
      ]
     },
     "execution_count": 67,
     "metadata": {},
     "output_type": "execute_result"
    }
   ],
   "source": [
    "numerical_df['distance_to_SP'].describe()"
   ]
  },
  {
   "cell_type": "code",
   "execution_count": 68,
   "id": "0b648a0b",
   "metadata": {},
   "outputs": [
    {
     "data": {
      "text/html": [
       "<div>\n",
       "<style scoped>\n",
       "    .dataframe tbody tr th:only-of-type {\n",
       "        vertical-align: middle;\n",
       "    }\n",
       "\n",
       "    .dataframe tbody tr th {\n",
       "        vertical-align: top;\n",
       "    }\n",
       "\n",
       "    .dataframe thead th {\n",
       "        text-align: right;\n",
       "    }\n",
       "</style>\n",
       "<table border=\"1\" class=\"dataframe\">\n",
       "  <thead>\n",
       "    <tr style=\"text-align: right;\">\n",
       "      <th></th>\n",
       "      <th>client_id</th>\n",
       "      <th>Product_id</th>\n",
       "      <th>Invoice_id</th>\n",
       "      <th>Quantity</th>\n",
       "      <th>Unit.price</th>\n",
       "      <th>Total</th>\n",
       "      <th>Descount amount</th>\n",
       "      <th>% descount</th>\n",
       "      <th>Net amount</th>\n",
       "      <th>distance_to_SP</th>\n",
       "    </tr>\n",
       "  </thead>\n",
       "  <tbody>\n",
       "    <tr>\n",
       "      <th>0</th>\n",
       "      <td>301264</td>\n",
       "      <td>80067</td>\n",
       "      <td>90521561</td>\n",
       "      <td>640</td>\n",
       "      <td>4</td>\n",
       "      <td>2,736</td>\n",
       "      <td>-247</td>\n",
       "      <td>-0</td>\n",
       "      <td>2,489</td>\n",
       "      <td>261</td>\n",
       "    </tr>\n",
       "    <tr>\n",
       "      <th>1</th>\n",
       "      <td>301502</td>\n",
       "      <td>80067</td>\n",
       "      <td>90521570</td>\n",
       "      <td>200</td>\n",
       "      <td>4</td>\n",
       "      <td>855</td>\n",
       "      <td>-127</td>\n",
       "      <td>-0</td>\n",
       "      <td>728</td>\n",
       "      <td>265</td>\n",
       "    </tr>\n",
       "  </tbody>\n",
       "</table>\n",
       "</div>"
      ],
      "text/plain": [
       "   client_id  Product_id  Invoice_id  Quantity  Unit.price  Total  \\\n",
       "0     301264       80067    90521561       640           4  2,736   \n",
       "1     301502       80067    90521570       200           4    855   \n",
       "\n",
       "   Descount amount  % descount  Net amount  distance_to_SP  \n",
       "0             -247          -0       2,489             261  \n",
       "1             -127          -0         728             265  "
      ]
     },
     "execution_count": 68,
     "metadata": {},
     "output_type": "execute_result"
    }
   ],
   "source": [
    "numerical_df.head(2)"
   ]
  },
  {
   "cell_type": "code",
   "execution_count": 69,
   "id": "5cd94304",
   "metadata": {},
   "outputs": [
    {
     "name": "stdout",
     "output_type": "stream",
     "text": [
      "0-265 km       1484\n",
      "265-295 km     1274\n",
      "296-312 km     1590\n",
      "313-1759 km    1332\n",
      "Name: distance_to_SP, dtype: int64\n"
     ]
    }
   ],
   "source": [
    "bin_labels = ['0-265 km', '265-295 km', '296-312 km', '313-1759 km']\n",
    "distance_bins = pd.cut(numerical_df['distance_to_SP'], [0, 265, 295, 312, 1760], labels=bin_labels)\n",
    "value_counts_result = distance_bins.value_counts().sort_index()\n",
    "print(value_counts_result)"
   ]
  },
  {
   "cell_type": "code",
   "execution_count": 70,
   "id": "e6022ba9",
   "metadata": {},
   "outputs": [
    {
     "data": {
      "text/plain": [
       "0-440 km        5076\n",
       "440-873 km       611\n",
       "1025-1250 km      89\n",
       "1538-1759 km      25\n",
       "Name: distance_SP_range, dtype: int64"
      ]
     },
     "execution_count": 70,
     "metadata": {},
     "output_type": "execute_result"
    }
   ],
   "source": [
    "Distance_labels = ['0-440 km', '440-873 km', '1025-1250 km', '1538-1759 km']\n",
    "numerical_df['distance_SP_range'] = pd.cut(numerical_df['distance_to_SP'],4,labels=Distance_labels)\n",
    "numerical_df[['distance_to_SP','distance_SP_range']].head(20)\n",
    "numerical_df['distance_SP_range'].value_counts()"
   ]
  },
  {
   "cell_type": "code",
   "execution_count": 71,
   "id": "9e27a46d",
   "metadata": {},
   "outputs": [
    {
     "data": {
      "text/plain": [
       "count   5,076\n",
       "mean      267\n",
       "std        77\n",
       "min         0\n",
       "25%       259\n",
       "50%       291\n",
       "75%       305\n",
       "max       436\n",
       "Name: distance_to_SP, dtype: float64"
      ]
     },
     "execution_count": 71,
     "metadata": {},
     "output_type": "execute_result"
    }
   ],
   "source": [
    "filtered_numerical_df = numerical_df[numerical_df['distance_SP_range'] == '0-440 km']\n",
    "distance_range_summary = filtered_numerical_df['distance_to_SP']\n",
    "distance_range_summary.describe()"
   ]
  },
  {
   "cell_type": "code",
   "execution_count": 72,
   "id": "bef0625e",
   "metadata": {},
   "outputs": [
    {
     "data": {
      "text/plain": [
       "count   5,801\n",
       "mean      323\n",
       "std       191\n",
       "min         0\n",
       "25%       265\n",
       "50%       295\n",
       "75%       312\n",
       "max     1,759\n",
       "Name: distance_to_SP, dtype: float64"
      ]
     },
     "execution_count": 72,
     "metadata": {},
     "output_type": "execute_result"
    }
   ],
   "source": [
    "numerical_df['distance_to_SP'].describe()"
   ]
  },
  {
   "cell_type": "code",
   "execution_count": 73,
   "id": "cc9d2da1",
   "metadata": {},
   "outputs": [
    {
     "data": {
      "text/plain": [
       "493"
      ]
     },
     "execution_count": 73,
     "metadata": {},
     "output_type": "execute_result"
    }
   ],
   "source": [
    "numerical_df['client_id'].nunique() ## confirm sales per client"
   ]
  },
  {
   "cell_type": "code",
   "execution_count": 74,
   "id": "0e250607",
   "metadata": {},
   "outputs": [
    {
     "data": {
      "image/png": "[encoded data removed]",
      "text/plain": [
       "<Figure size 864x576 with 1 Axes>"
      ]
     },
     "metadata": {
      "needs_background": "light"
     },
     "output_type": "display_data"
    }
   ],
   "source": [
    "numerical_df['% descount'] = pd.to_numeric(merged_df['% descount'], errors='coerce')\n",
    "plt.figure(figsize=(12, 8))  # Adjust the values (width, height) as needed\n",
    "sns.histplot(numerical_df['distance_to_SP'], kde=True)\n",
    "plt.xlabel('distance_to_SP')\n",
    "plt.ylabel('Frequency')\n",
    "plt.title('Histogram of Distance to shipping point')\n",
    "plt.show()"
   ]
  },
  {
   "cell_type": "code",
   "execution_count": 75,
   "id": "a7db96e4",
   "metadata": {},
   "outputs": [
    {
     "data": {
      "image/png": "[encoded data removed]",
      "text/plain": [
       "<Figure size 864x576 with 1 Axes>"
      ]
     },
     "metadata": {
      "needs_background": "light"
     },
     "output_type": "display_data"
    }
   ],
   "source": [
    "merged_df['% descount'] = pd.to_numeric(merged_df['% descount'], errors='coerce')\n",
    "plt.figure(figsize=(12, 8))\n",
    "sns.regplot(x=merged_df['distance_to_SP'], y=merged_df['% descount'])\n",
    "plt.xlabel('distance_to_SP')\n",
    "plt.ylabel('% Descount')\n",
    "plt.title('Scatter Plot of % Descount per Distance with Regression Line')\n",
    "plt.show()"
   ]
  },
  {
   "cell_type": "code",
   "execution_count": null,
   "id": "4878e65c",
   "metadata": {},
   "outputs": [],
   "source": []
  },
  {
   "cell_type": "markdown",
   "id": "9ae3e9df",
   "metadata": {},
   "source": [
    "# Exploratory Analysis | Categorical"
   ]
  },
  {
   "cell_type": "code",
   "execution_count": 76,
   "id": "ae61fc28",
   "metadata": {},
   "outputs": [
    {
     "data": {
      "text/plain": [
       "Index(['Province', 'Village', 'Category_desc', 'Payment_condition'], dtype='object')"
      ]
     },
     "execution_count": 76,
     "metadata": {},
     "output_type": "execute_result"
    }
   ],
   "source": [
    "categorical_df.columns"
   ]
  },
  {
   "cell_type": "markdown",
   "id": "8c861f60",
   "metadata": {},
   "source": [
    "## Exploratory Analysis | sales by province"
   ]
  },
  {
   "cell_type": "code",
   "execution_count": 77,
   "id": "bc7b7597",
   "metadata": {},
   "outputs": [
    {
     "data": {
      "text/plain": [
       "Buenos Aires       4638\n",
       "Entre Rios          345\n",
       "Santa Fé            327\n",
       "Capital Federal     132\n",
       "Rio Negro            93\n",
       "Chaco                70\n",
       "Neuquen              53\n",
       "La Pampa             48\n",
       "Chubut               34\n",
       "Santa Cruz           33\n",
       "Corrientes           15\n",
       "Misiones             12\n",
       "Formosa               1\n",
       "Name: Province, dtype: int64"
      ]
     },
     "execution_count": 77,
     "metadata": {},
     "output_type": "execute_result"
    }
   ],
   "source": [
    "concatenated_df['Province'].value_counts()"
   ]
  },
  {
   "cell_type": "code",
   "execution_count": 78,
   "id": "75f2c5fc",
   "metadata": {},
   "outputs": [
    {
     "data": {
      "image/png": "[encoded data removed]",
      "text/plain": [
       "<Figure size 576x576 with 1 Axes>"
      ]
     },
     "metadata": {},
     "output_type": "display_data"
    }
   ],
   "source": [
    "import matplotlib.pyplot as plt\n",
    "state_column = 'Province'\n",
    "quantity_column = 'Quantity'\n",
    "state_counts = concatenated_df.groupby(state_column)[quantity_column].sum()\n",
    "plt.figure(figsize=(8, 8))\n",
    "plt.pie(state_counts, labels=state_counts.index, autopct='%1.1f%%', startangle=50)\n",
    "plt.title('Distribution of Sales by Province')\n",
    "plt.axis('equal')\n",
    "plt.show()"
   ]
  },
  {
   "cell_type": "code",
   "execution_count": 79,
   "id": "693fa81f",
   "metadata": {},
   "outputs": [
    {
     "data": {
      "image/png": "[encoded data removed]",
      "text/plain": [
       "<Figure size 864x576 with 1 Axes>"
      ]
     },
     "metadata": {
      "needs_background": "light"
     },
     "output_type": "display_data"
    }
   ],
   "source": [
    "state_column = 'Province'\n",
    "quantity_column = 'Quantity'\n",
    "state_counts = concatenated_df.groupby(state_column)[quantity_column].sum().reset_index()\n",
    "\n",
    "plt.figure(figsize=(12, 8))\n",
    "sns.barplot(x=state_counts[state_column], y=state_counts[quantity_column], palette='viridis')\n",
    "plt.xlabel('Province')\n",
    "plt.ylabel('Total Sales Quantity')\n",
    "plt.title('Distribution of Sales by Province')\n",
    "plt.xticks(rotation=45, ha='right')  # Adjust rotation for better visibility\n",
    "plt.show()"
   ]
  },
  {
   "cell_type": "markdown",
   "id": "36a829b4",
   "metadata": {},
   "source": [
    "## Exploratory Analysis | sales by village"
   ]
  },
  {
   "cell_type": "code",
   "execution_count": 80,
   "id": "ba30af65",
   "metadata": {},
   "outputs": [
    {
     "data": {
      "text/plain": [
       "SAN MARTIN          416\n",
       "MONTE GRANDE        188\n",
       "MAR DEL PLATA       162\n",
       "MARCOS PAZ          154\n",
       "TIGRE               142\n",
       "                   ... \n",
       "FRANCISCO MADERO      1\n",
       "LIBERTAD              1\n",
       "CORONEL DORREGO       1\n",
       "MOQUEHUA              1\n",
       "ZAVALLA               1\n",
       "Name: Village, Length: 287, dtype: int64"
      ]
     },
     "execution_count": 80,
     "metadata": {},
     "output_type": "execute_result"
    }
   ],
   "source": [
    "concatenated_df['Village'].value_counts()"
   ]
  },
  {
   "cell_type": "code",
   "execution_count": 81,
   "id": "6adcb191",
   "metadata": {},
   "outputs": [
    {
     "data": {
      "image/png": "[encoded data removed]",
      "text/plain": [
       "<Figure size 864x576 with 1 Axes>"
      ]
     },
     "metadata": {
      "needs_background": "light"
     },
     "output_type": "display_data"
    }
   ],
   "source": [
    "village_column = 'Village'\n",
    "quantity_column = 'Quantity'\n",
    "\n",
    "village_counts = concatenated_df.groupby(village_column)[quantity_column].sum().reset_index()\n",
    "top_villages = village_counts.sort_values(by=quantity_column, ascending=False).head(30)\n",
    "\n",
    "plt.figure(figsize=(12, 8))\n",
    "sns.barplot(x=top_villages[village_column], y=top_villages[quantity_column], palette='viridis')\n",
    "plt.xlabel('Village')\n",
    "plt.ylabel('Total Sales Quantity')\n",
    "plt.title('Top 20 Villages - Distribution of Sales by Village')\n",
    "plt.xticks(rotation=45, ha='right')  # Adjust rotation for better visibility\n",
    "plt.show()\n"
   ]
  },
  {
   "cell_type": "code",
   "execution_count": null,
   "id": "208b7db3",
   "metadata": {},
   "outputs": [],
   "source": []
  },
  {
   "cell_type": "code",
   "execution_count": null,
   "id": "eb98ac91",
   "metadata": {},
   "outputs": [],
   "source": []
  },
  {
   "cell_type": "markdown",
   "id": "09cfdec3",
   "metadata": {},
   "source": [
    "## Exploratory Analysis | Correlation matrix"
   ]
  },
  {
   "cell_type": "code",
   "execution_count": 82,
   "id": "f23df5e6",
   "metadata": {},
   "outputs": [
    {
     "data": {
      "text/plain": [
       "Index(['client_id', 'Product_id', 'Invoice_id', 'Quantity', 'Unit.price',\n",
       "       'Total', 'Descount amount', '% descount', 'Net amount',\n",
       "       'distance_to_SP', 'distance_SP_range'],\n",
       "      dtype='object')"
      ]
     },
     "execution_count": 82,
     "metadata": {},
     "output_type": "execute_result"
    }
   ],
   "source": [
    "numerical_df.columns"
   ]
  },
  {
   "cell_type": "code",
   "execution_count": 83,
   "id": "6f03a675",
   "metadata": {},
   "outputs": [
    {
     "data": {
      "text/plain": [
       "Index(['Quantity', 'Total', 'distance_to_SP', 'Unit.price', '% descount'], dtype='object')"
      ]
     },
     "execution_count": 83,
     "metadata": {},
     "output_type": "execute_result"
    }
   ],
   "source": [
    "correlation_df = numerical_df[['Quantity', 'Total', 'distance_to_SP', 'Unit.price', '% descount']].copy()\n",
    "correlation_df.columns"
   ]
  },
  {
   "cell_type": "code",
   "execution_count": 84,
   "id": "965ccdf5",
   "metadata": {},
   "outputs": [
    {
     "data": {
      "text/plain": [
       "0   -0.09\n",
       "1   -0.15\n",
       "2   -0.15\n",
       "3   -0.09\n",
       "4   -0.09\n",
       "Name: % descount, dtype: float64"
      ]
     },
     "execution_count": 84,
     "metadata": {},
     "output_type": "execute_result"
    }
   ],
   "source": [
    "# transform % descount as positive value so it is easier to understand\n",
    "correlation_df['% descount'] = pd.to_numeric(correlation_df['% descount'], errors='coerce')\n",
    "correlation_df['% descount'] = correlation_df['% descount'].abs().round(2)\n",
    "pd.options.display.float_format = '{:.2f}'.format\n",
    "numerical_df['% descount'].head()"
   ]
  },
  {
   "cell_type": "code",
   "execution_count": 85,
   "id": "a366b6a2",
   "metadata": {},
   "outputs": [
    {
     "data": {
      "image/png": "[encoded data removed]",
      "text/plain": [
       "<Figure size 720x576 with 2 Axes>"
      ]
     },
     "metadata": {
      "needs_background": "light"
     },
     "output_type": "display_data"
    }
   ],
   "source": [
    "import matplotlib.pyplot as plt\n",
    "import seaborn as sns\n",
    "\n",
    "# I confirm that distance to shipping point and descount are (not strongly) correlated\n",
    "corr_matrix = correlation_df.corr()\n",
    "fig, ax = plt.subplots(figsize=(10, 8))\n",
    "ax = sns.heatmap(corr_matrix, annot=True)\n",
    "plt.show()"
   ]
  },
  {
   "cell_type": "code",
   "execution_count": null,
   "id": "0148f60b",
   "metadata": {},
   "outputs": [],
   "source": []
  },
  {
   "cell_type": "markdown",
   "id": "0779bd59",
   "metadata": {},
   "source": [
    "# Hypothesis Tests | Distance to SP\n",
    "\n",
    "In this section, we will test whether the % discount per sale is significantly similar to the distance to the point of dispatch."
   ]
  },
  {
   "cell_type": "code",
   "execution_count": 86,
   "id": "ed600d79",
   "metadata": {},
   "outputs": [
    {
     "data": {
      "text/plain": [
       "Index(['client_id', 'Product_id', 'Invoice_id', 'Quantity', 'Unit.price',\n",
       "       'Total', 'Descount amount', '% descount', 'Net amount',\n",
       "       'distance_to_SP', 'Province', 'Village', 'Category_desc',\n",
       "       'Payment_condition'],\n",
       "      dtype='object')"
      ]
     },
     "execution_count": 86,
     "metadata": {},
     "output_type": "execute_result"
    }
   ],
   "source": [
    "concatenated_df.columns"
   ]
  },
  {
   "cell_type": "code",
   "execution_count": 87,
   "id": "2632ad85",
   "metadata": {},
   "outputs": [
    {
     "data": {
      "text/plain": [
       "count   5801.00\n",
       "mean      -0.12\n",
       "std        0.04\n",
       "min       -0.29\n",
       "25%       -0.13\n",
       "50%       -0.11\n",
       "75%       -0.09\n",
       "max       -0.07\n",
       "Name: % descount, dtype: float64"
      ]
     },
     "execution_count": 87,
     "metadata": {},
     "output_type": "execute_result"
    }
   ],
   "source": [
    "concatenated_df['% descount'].describe()"
   ]
  },
  {
   "cell_type": "code",
   "execution_count": 88,
   "id": "eee672f7",
   "metadata": {},
   "outputs": [
    {
     "data": {
      "text/plain": [
       "count   5801.00\n",
       "mean     322.65\n",
       "std      190.60\n",
       "min        0.00\n",
       "25%      264.54\n",
       "50%      295.25\n",
       "75%      311.64\n",
       "max     1758.95\n",
       "Name: distance_to_SP, dtype: float64"
      ]
     },
     "execution_count": 88,
     "metadata": {},
     "output_type": "execute_result"
    }
   ],
   "source": [
    "numerical_df['distance_to_SP'].describe()"
   ]
  },
  {
   "cell_type": "code",
   "execution_count": 89,
   "id": "1ba70fb9",
   "metadata": {},
   "outputs": [
    {
     "name": "stdout",
     "output_type": "stream",
     "text": [
      "0-265 km       1484\n",
      "265-295 km     1274\n",
      "296-312 km     1590\n",
      "313-1759 km    1332\n",
      "Name: distance_to_SP, dtype: int64\n"
     ]
    }
   ],
   "source": [
    "bin_labels = ['0-265 km', '265-295 km', '296-312 km', '313-1759 km']\n",
    "distance_bins = pd.cut(numerical_df['distance_to_SP'], [0, 265, 295, 312, 1760], labels=bin_labels)\n",
    "value_counts_result = distance_bins.value_counts().sort_index()\n",
    "print(value_counts_result)"
   ]
  },
  {
   "cell_type": "code",
   "execution_count": 90,
   "id": "3e913f3d",
   "metadata": {},
   "outputs": [
    {
     "data": {
      "text/plain": [
       "0-440 km        5076\n",
       "440-873 km       611\n",
       "1025-1250 km      89\n",
       "1538-1759 km      25\n",
       "Name: distance_SP_range, dtype: int64"
      ]
     },
     "execution_count": 90,
     "metadata": {},
     "output_type": "execute_result"
    }
   ],
   "source": [
    "Distance_labels = ['0-440 km', '440-873 km', '1025-1250 km', '1538-1759 km']\n",
    "numerical_df['distance_SP_range'] = pd.cut(numerical_df['distance_to_SP'],4,labels=Distance_labels)\n",
    "numerical_df[['distance_to_SP','distance_SP_range']].head(20)\n",
    "numerical_df['distance_SP_range'].value_counts()"
   ]
  },
  {
   "cell_type": "markdown",
   "id": "f6a43f91",
   "metadata": {},
   "source": [
    "### Hypothesis Tests | 1 "
   ]
  },
  {
   "cell_type": "code",
   "execution_count": 91,
   "id": "3623e4d9",
   "metadata": {},
   "outputs": [
    {
     "name": "stdout",
     "output_type": "stream",
     "text": [
      "The average % descount for rows with distance > 295 km is: -0.1075981223621492\n"
     ]
    }
   ],
   "source": [
    "# find out the mean % descount for the clients that are between 0 and the mode\n",
    "import numpy as np\n",
    "filtered_rows = concatenated_df[concatenated_df['distance_to_SP'] < 295.25]\n",
    "average_distance = np.mean(filtered_rows['% descount'])\n",
    "print(f\"The average % descount for rows with distance > 295 km is: {average_distance}\")"
   ]
  },
  {
   "cell_type": "code",
   "execution_count": 92,
   "id": "4eab8b71",
   "metadata": {},
   "outputs": [
    {
     "name": "stderr",
     "output_type": "stream",
     "text": [
      "C:\\Users\\Santiago\\AppData\\Local\\Temp\\ipykernel_20904\\1724396738.py:3: SettingWithCopyWarning: \n",
      "A value is trying to be set on a copy of a slice from a DataFrame.\n",
      "Try using .loc[row_indexer,col_indexer] = value instead\n",
      "\n",
      "See the caveats in the documentation: https://pandas.pydata.org/pandas-docs/stable/user_guide/indexing.html#returning-a-view-versus-a-copy\n",
      "  distant_clients['% descount'] = distant_clients['% descount'].abs()\n"
     ]
    },
    {
     "data": {
      "text/html": [
       "<div>\n",
       "<style scoped>\n",
       "    .dataframe tbody tr th:only-of-type {\n",
       "        vertical-align: middle;\n",
       "    }\n",
       "\n",
       "    .dataframe tbody tr th {\n",
       "        vertical-align: top;\n",
       "    }\n",
       "\n",
       "    .dataframe thead th {\n",
       "        text-align: right;\n",
       "    }\n",
       "</style>\n",
       "<table border=\"1\" class=\"dataframe\">\n",
       "  <thead>\n",
       "    <tr style=\"text-align: right;\">\n",
       "      <th></th>\n",
       "      <th>% descount</th>\n",
       "    </tr>\n",
       "  </thead>\n",
       "  <tbody>\n",
       "    <tr>\n",
       "      <th>5</th>\n",
       "      <td>0.09</td>\n",
       "    </tr>\n",
       "    <tr>\n",
       "      <th>10</th>\n",
       "      <td>0.17</td>\n",
       "    </tr>\n",
       "    <tr>\n",
       "      <th>12</th>\n",
       "      <td>0.20</td>\n",
       "    </tr>\n",
       "    <tr>\n",
       "      <th>13</th>\n",
       "      <td>0.20</td>\n",
       "    </tr>\n",
       "    <tr>\n",
       "      <th>14</th>\n",
       "      <td>0.10</td>\n",
       "    </tr>\n",
       "  </tbody>\n",
       "</table>\n",
       "</div>"
      ],
      "text/plain": [
       "    % descount\n",
       "5         0.09\n",
       "10        0.17\n",
       "12        0.20\n",
       "13        0.20\n",
       "14        0.10"
      ]
     },
     "execution_count": 92,
     "metadata": {},
     "output_type": "execute_result"
    }
   ],
   "source": [
    "# find out the mean % descount for the clients that are farer from the mode\n",
    "distant_clients = concatenated_df[(concatenated_df['distance_to_SP'] > 295.25)]\n",
    "distant_clients['% descount'] = distant_clients['% descount'].abs()\n",
    "descounts = distant_clients[['% descount']]\n",
    "descounts.head()"
   ]
  },
  {
   "cell_type": "code",
   "execution_count": 93,
   "id": "5b1b08f7",
   "metadata": {},
   "outputs": [
    {
     "name": "stdout",
     "output_type": "stream",
     "text": [
      "Confidence interval is : (array([0.13377345]), array([0.13740075]))\n"
     ]
    },
    {
     "name": "stderr",
     "output_type": "stream",
     "text": [
      "C:\\Users\\Santiago\\anaconda3\\lib\\site-packages\\numpy\\core\\fromnumeric.py:3438: FutureWarning: In a future version, DataFrame.mean(axis=None) will return a scalar mean over the entire DataFrame. To retain the old behavior, use 'frame.mean(axis=0)' or just 'frame.mean()'\n",
      "  return mean(axis=axis, dtype=dtype, out=out, **kwargs)\n"
     ]
    }
   ],
   "source": [
    "# Two-sided test:\n",
    "# Null hypothesis or H0: customers with distances greater than 295 km have discounts > 0,107 \n",
    "# Alternative hyp or H1: there is no relationship between discount and distance\n",
    "\n",
    "import scipy.stats\n",
    "\n",
    "confidence_level = 0.95\n",
    "\n",
    "degrees_freedom = len(descounts) - 1  \n",
    "sample_mean = np.mean(descounts)\n",
    "\n",
    "sample_standard_error = scipy.stats.sem(descounts) \n",
    "\n",
    "confidence_interval = scipy.stats.t.interval(confidence_level, \n",
    "                                             degrees_freedom, \n",
    "                                             sample_mean, \n",
    "                                             sample_standard_error)\n",
    "\n",
    "print( f\"Confidence interval is : {confidence_interval}\")"
   ]
  },
  {
   "cell_type": "code",
   "execution_count": 94,
   "id": "e5309e22",
   "metadata": {},
   "outputs": [
    {
     "name": "stdout",
     "output_type": "stream",
     "text": [
      "Stat_score = [30.90610214]\n",
      "Pvalue =  [1.038872e-181]\n"
     ]
    }
   ],
   "source": [
    "from scipy import stats\n",
    "stat, pvalue = stats.ttest_1samp(descounts, 0.107)\n",
    "print('Stat_score =', stat)\n",
    "print('Pvalue = ', pvalue)"
   ]
  },
  {
   "cell_type": "code",
   "execution_count": 95,
   "id": "947476a9",
   "metadata": {},
   "outputs": [],
   "source": [
    "# REJECTED\n",
    "# Stat_score suggests a significant deviation from the null hypothesis\n",
    "# Pvalue strong evidence against the null hypothesis."
   ]
  },
  {
   "cell_type": "code",
   "execution_count": null,
   "id": "e90c47f0",
   "metadata": {},
   "outputs": [],
   "source": []
  },
  {
   "cell_type": "code",
   "execution_count": null,
   "id": "73864ad3",
   "metadata": {},
   "outputs": [],
   "source": []
  },
  {
   "cell_type": "markdown",
   "id": "eaa77ce0",
   "metadata": {},
   "source": [
    "### Hypothesis Tests | 2"
   ]
  },
  {
   "cell_type": "code",
   "execution_count": 96,
   "id": "0ad6b1c8",
   "metadata": {},
   "outputs": [
    {
     "name": "stderr",
     "output_type": "stream",
     "text": [
      "C:\\Users\\Santiago\\AppData\\Local\\Temp\\ipykernel_20904\\748206595.py:3: SettingWithCopyWarning: \n",
      "A value is trying to be set on a copy of a slice from a DataFrame.\n",
      "Try using .loc[row_indexer,col_indexer] = value instead\n",
      "\n",
      "See the caveats in the documentation: https://pandas.pydata.org/pandas-docs/stable/user_guide/indexing.html#returning-a-view-versus-a-copy\n",
      "  distant_clients['% descount'] = distant_clients['% descount'].abs()\n"
     ]
    },
    {
     "data": {
      "text/html": [
       "<div>\n",
       "<style scoped>\n",
       "    .dataframe tbody tr th:only-of-type {\n",
       "        vertical-align: middle;\n",
       "    }\n",
       "\n",
       "    .dataframe tbody tr th {\n",
       "        vertical-align: top;\n",
       "    }\n",
       "\n",
       "    .dataframe thead th {\n",
       "        text-align: right;\n",
       "    }\n",
       "</style>\n",
       "<table border=\"1\" class=\"dataframe\">\n",
       "  <thead>\n",
       "    <tr style=\"text-align: right;\">\n",
       "      <th></th>\n",
       "      <th>% descount</th>\n",
       "    </tr>\n",
       "  </thead>\n",
       "  <tbody>\n",
       "    <tr>\n",
       "      <th>5</th>\n",
       "      <td>0.09</td>\n",
       "    </tr>\n",
       "    <tr>\n",
       "      <th>10</th>\n",
       "      <td>0.17</td>\n",
       "    </tr>\n",
       "    <tr>\n",
       "      <th>12</th>\n",
       "      <td>0.20</td>\n",
       "    </tr>\n",
       "    <tr>\n",
       "      <th>13</th>\n",
       "      <td>0.20</td>\n",
       "    </tr>\n",
       "    <tr>\n",
       "      <th>14</th>\n",
       "      <td>0.10</td>\n",
       "    </tr>\n",
       "  </tbody>\n",
       "</table>\n",
       "</div>"
      ],
      "text/plain": [
       "    % descount\n",
       "5         0.09\n",
       "10        0.17\n",
       "12        0.20\n",
       "13        0.20\n",
       "14        0.10"
      ]
     },
     "execution_count": 96,
     "metadata": {},
     "output_type": "execute_result"
    }
   ],
   "source": [
    "# now I do the test for the clients that are between the mode and 313 km \n",
    "distant_clients = concatenated_df[(concatenated_df['distance_to_SP'] > 295.25) & (concatenated_df['% descount'] < 313)]\n",
    "distant_clients['% descount'] = distant_clients['% descount'].abs()\n",
    "descounts_h2 = distant_clients[['% descount']]\n",
    "descounts_h2.head()"
   ]
  },
  {
   "cell_type": "code",
   "execution_count": 97,
   "id": "0bdaf626",
   "metadata": {},
   "outputs": [
    {
     "name": "stdout",
     "output_type": "stream",
     "text": [
      "Confidence interval is : (array([0.13377345]), array([0.13740075]))\n"
     ]
    },
    {
     "name": "stderr",
     "output_type": "stream",
     "text": [
      "C:\\Users\\Santiago\\anaconda3\\lib\\site-packages\\numpy\\core\\fromnumeric.py:3438: FutureWarning: In a future version, DataFrame.mean(axis=None) will return a scalar mean over the entire DataFrame. To retain the old behavior, use 'frame.mean(axis=0)' or just 'frame.mean()'\n",
      "  return mean(axis=axis, dtype=dtype, out=out, **kwargs)\n"
     ]
    }
   ],
   "source": [
    "# Two-sided test:\n",
    "# Null hypothesis or H0: customers with distances greater than 295 km and smoller than 313 have discounts > 0,107 \n",
    "# Alternative hyp or H1: there is no relationship between discount and distance\n",
    "\n",
    "import scipy.stats\n",
    "\n",
    "confidence_level = 0.95\n",
    "\n",
    "degrees_freedom = len(descounts_h2) - 1  \n",
    "sample_mean = np.mean(descounts_h2)\n",
    "\n",
    "sample_standard_error = scipy.stats.sem(descounts) \n",
    "\n",
    "confidence_interval = scipy.stats.t.interval(confidence_level, \n",
    "                                             degrees_freedom, \n",
    "                                             sample_mean, \n",
    "                                             sample_standard_error)\n",
    "\n",
    "print( f\"Confidence interval is : {confidence_interval}\")"
   ]
  },
  {
   "cell_type": "code",
   "execution_count": 98,
   "id": "1857ef45",
   "metadata": {},
   "outputs": [
    {
     "name": "stdout",
     "output_type": "stream",
     "text": [
      "Stat_score = [30.90610214]\n",
      "Pvalue =  [1.038872e-181]\n"
     ]
    }
   ],
   "source": [
    "from scipy import stats\n",
    "stat, pvalue = stats.ttest_1samp(descounts_h2, 0.107)\n",
    "print('Stat_score =', stat)\n",
    "print('Pvalue = ', pvalue)"
   ]
  },
  {
   "cell_type": "code",
   "execution_count": 99,
   "id": "d93c5e06",
   "metadata": {},
   "outputs": [],
   "source": [
    "# REJECTED\n",
    "# Stat_score suggests a significant deviation from the null hypothesis\n",
    "# Pvalue strong evidence against the null hypothesis."
   ]
  },
  {
   "cell_type": "code",
   "execution_count": null,
   "id": "a4f4b6b3",
   "metadata": {},
   "outputs": [],
   "source": []
  },
  {
   "cell_type": "code",
   "execution_count": null,
   "id": "7f549e15",
   "metadata": {},
   "outputs": [],
   "source": []
  },
  {
   "cell_type": "markdown",
   "id": "eaa677d4",
   "metadata": {},
   "source": [
    "### Hypothesis Tests | 3"
   ]
  },
  {
   "cell_type": "code",
   "execution_count": 100,
   "id": "3838ce38",
   "metadata": {},
   "outputs": [
    {
     "name": "stdout",
     "output_type": "stream",
     "text": [
      "The average distance for rows with discounts < 0.107 is: 251.29746258723634\n"
     ]
    }
   ],
   "source": [
    "# In this particular case I test the clients with mean value higher than 10.7 \n",
    "# tring to find out if those clients are farer than the mean distanc for the client with this mean value\n",
    "\n",
    "filtered_rows = concatenated_df[concatenated_df['% descount'] > -0.107]\n",
    "average_distance = np.mean(filtered_rows['distance_to_SP'])\n",
    "print(f\"The average distance for rows with discounts < 0.107 is: {average_distance}\")"
   ]
  },
  {
   "cell_type": "code",
   "execution_count": 101,
   "id": "51cc35ff",
   "metadata": {},
   "outputs": [
    {
     "name": "stderr",
     "output_type": "stream",
     "text": [
      "C:\\Users\\Santiago\\AppData\\Local\\Temp\\ipykernel_20904\\1246829836.py:2: SettingWithCopyWarning: \n",
      "A value is trying to be set on a copy of a slice from a DataFrame.\n",
      "Try using .loc[row_indexer,col_indexer] = value instead\n",
      "\n",
      "See the caveats in the documentation: https://pandas.pydata.org/pandas-docs/stable/user_guide/indexing.html#returning-a-view-versus-a-copy\n",
      "  discounted['distance_to_SP'] = discounted['distance_to_SP'].abs()\n"
     ]
    },
    {
     "data": {
      "text/html": [
       "<div>\n",
       "<style scoped>\n",
       "    .dataframe tbody tr th:only-of-type {\n",
       "        vertical-align: middle;\n",
       "    }\n",
       "\n",
       "    .dataframe tbody tr th {\n",
       "        vertical-align: top;\n",
       "    }\n",
       "\n",
       "    .dataframe thead th {\n",
       "        text-align: right;\n",
       "    }\n",
       "</style>\n",
       "<table border=\"1\" class=\"dataframe\">\n",
       "  <thead>\n",
       "    <tr style=\"text-align: right;\">\n",
       "      <th></th>\n",
       "      <th>distance_to_SP</th>\n",
       "    </tr>\n",
       "  </thead>\n",
       "  <tbody>\n",
       "    <tr>\n",
       "      <th>1</th>\n",
       "      <td>264.82</td>\n",
       "    </tr>\n",
       "    <tr>\n",
       "      <th>2</th>\n",
       "      <td>264.82</td>\n",
       "    </tr>\n",
       "    <tr>\n",
       "      <th>6</th>\n",
       "      <td>0.00</td>\n",
       "    </tr>\n",
       "    <tr>\n",
       "      <th>7</th>\n",
       "      <td>0.00</td>\n",
       "    </tr>\n",
       "    <tr>\n",
       "      <th>8</th>\n",
       "      <td>283.15</td>\n",
       "    </tr>\n",
       "    <tr>\n",
       "      <th>9</th>\n",
       "      <td>283.15</td>\n",
       "    </tr>\n",
       "    <tr>\n",
       "      <th>10</th>\n",
       "      <td>726.46</td>\n",
       "    </tr>\n",
       "    <tr>\n",
       "      <th>12</th>\n",
       "      <td>1225.63</td>\n",
       "    </tr>\n",
       "    <tr>\n",
       "      <th>13</th>\n",
       "      <td>1225.63</td>\n",
       "    </tr>\n",
       "    <tr>\n",
       "      <th>20</th>\n",
       "      <td>275.65</td>\n",
       "    </tr>\n",
       "  </tbody>\n",
       "</table>\n",
       "</div>"
      ],
      "text/plain": [
       "    distance_to_SP\n",
       "1           264.82\n",
       "2           264.82\n",
       "6             0.00\n",
       "7             0.00\n",
       "8           283.15\n",
       "9           283.15\n",
       "10          726.46\n",
       "12         1225.63\n",
       "13         1225.63\n",
       "20          275.65"
      ]
     },
     "execution_count": 101,
     "metadata": {},
     "output_type": "execute_result"
    }
   ],
   "source": [
    "discounted = concatenated_df[concatenated_df['% descount'] < -0.107]\n",
    "discounted['distance_to_SP'] = discounted['distance_to_SP'].abs()\n",
    "distant_h3 = discounted[['distance_to_SP']]\n",
    "distant_h3.head(10)"
   ]
  },
  {
   "cell_type": "code",
   "execution_count": 102,
   "id": "f6753dd6",
   "metadata": {},
   "outputs": [
    {
     "name": "stdout",
     "output_type": "stream",
     "text": [
      "Confidence interval is : (array([362.99498769]), array([377.76416644]))\n"
     ]
    },
    {
     "name": "stderr",
     "output_type": "stream",
     "text": [
      "C:\\Users\\Santiago\\anaconda3\\lib\\site-packages\\numpy\\core\\fromnumeric.py:3438: FutureWarning: In a future version, DataFrame.mean(axis=None) will return a scalar mean over the entire DataFrame. To retain the old behavior, use 'frame.mean(axis=0)' or just 'frame.mean()'\n",
      "  return mean(axis=axis, dtype=dtype, out=out, **kwargs)\n"
     ]
    }
   ],
   "source": [
    "# Two-sided test:\n",
    "# Null hypothesis or H0: customers with discounts greater than 0,107 km have distances > 251.29\n",
    "# Alternative hyp or H1: there is no relationship between discount and distance\n",
    "\n",
    "import scipy.stats\n",
    "\n",
    "confidence_level = 0.95\n",
    "\n",
    "degrees_freedom = len(distant_h3) - 1  \n",
    "sample_mean = np.mean(distant_h3)\n",
    "\n",
    "sample_standard_error = scipy.stats.sem(distant_h3) \n",
    "\n",
    "confidence_interval = scipy.stats.t.interval(confidence_level, \n",
    "                                             degrees_freedom, \n",
    "                                             sample_mean, \n",
    "                                             sample_standard_error)\n",
    "\n",
    "print( f\"Confidence interval is : {confidence_interval}\")"
   ]
  },
  {
   "cell_type": "code",
   "execution_count": 103,
   "id": "163acebb",
   "metadata": {},
   "outputs": [
    {
     "name": "stdout",
     "output_type": "stream",
     "text": [
      "Stat_score = [31.61890211]\n",
      "Pvalue =  [4.5063919e-193]\n"
     ]
    }
   ],
   "source": [
    "from scipy import stats\n",
    "stat, pvalue = stats.ttest_1samp(distant_h3, 251.29)\n",
    "print('Stat_score =', stat)\n",
    "print('Pvalue = ', pvalue)"
   ]
  },
  {
   "cell_type": "code",
   "execution_count": 104,
   "id": "e243fb2b",
   "metadata": {},
   "outputs": [],
   "source": [
    "# REJECTED\n",
    "# Stat_score suggests a significant deviation from the null hypothesis\n",
    "# Pvalue strong evidence against the null hypothesis."
   ]
  },
  {
   "cell_type": "code",
   "execution_count": null,
   "id": "6404f395",
   "metadata": {},
   "outputs": [],
   "source": []
  }
 ],
 "metadata": {
  "kernelspec": {
   "display_name": "Python 3 (ipykernel)",
   "language": "python",
   "name": "python3"
  },
  "language_info": {
   "codemirror_mode": {
    "name": "ipython",
    "version": 3
   },
   "file_extension": ".py",
   "mimetype": "text/x-python",
   "name": "python",
   "nbconvert_exporter": "python",
   "pygments_lexer": "ipython3",
   "version": "3.9.12"
  }
 },
 "nbformat": 4,
 "nbformat_minor": 5
}
